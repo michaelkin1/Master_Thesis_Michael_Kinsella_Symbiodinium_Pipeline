{
 "cells": [
  {
   "cell_type": "markdown",
   "id": "c0d07cbe-96f1-4b7a-9db4-0940ce54fde3",
   "metadata": {},
   "source": [
    "# Mother Machine Data Pipeline for Symbiodinium cells"
   ]
  },
  {
   "cell_type": "markdown",
   "id": "ce946fac-d28e-4963-a6d6-e9c0add2eea5",
   "metadata": {},
   "source": [
    "## Prerequsities: \n",
    "- your raw data is in tiff-file format (can be converted with eg. bioformats)\n",
    "- you (manually) create a folder on your computer where you want to store all your results"
   ]
  },
  {
   "cell_type": "markdown",
   "id": "dd0e3a9e-3c22-40aa-b06a-de309dcf70ae",
   "metadata": {},
   "source": [
    "### Import packages"
   ]
  },
  {
   "cell_type": "code",
   "execution_count": 1,
   "id": "3fa11eca-985b-471b-813f-38bdd6725301",
   "metadata": {},
   "outputs": [
    {
     "name": "stderr",
     "output_type": "stream",
     "text": [
      "C:\\Users\\micha\\anaconda3\\anaconda_file\\Lib\\site-packages\\paramiko\\transport.py:219: CryptographyDeprecationWarning: Blowfish has been deprecated\n",
      "  \"class\": algorithms.Blowfish,\n"
     ]
    }
   ],
   "source": [
    "import os\n",
    "from pathlib import Path\n",
    "import numpy as np\n",
    "import matplotlib\n",
    "import matplotlib.pyplot as plt\n",
    "from matplotlib.widgets import RectangleSelector\n",
    "from PIL import Image\n",
    "import imageio\n",
    "import io\n",
    "from scipy.fft import rfft, rfftfreq\n",
    "from scipy.signal import find_peaks\n",
    "import warnings\n",
    "import tifffile\n",
    "\n",
    "import skimage\n",
    "from skimage import io \n",
    "from skimage import io as skio, measure, segmentation, color\n",
    "from scipy.ndimage import binary_dilation, binary_erosion\n",
    "from skimage.util import img_as_float, img_as_ubyte\n",
    "from skimage.io import imread, imsave\n",
    "\n",
    "import napari\n",
    "from tqdm.notebook import tqdm \n",
    "import pandas as pd\n",
    "\n",
    "import cellpose.models\n",
    "from cellpose import io as cellpose_io\n",
    "\n",
    "#from deepcell_tracking import CellTracker\n"
   ]
  },
  {
   "cell_type": "markdown",
   "id": "8eb0ea2a-7d4d-472d-bb94-3b1c7147516d",
   "metadata": {},
   "source": [
    "### Define filepaths and create directories"
   ]
  },
  {
   "cell_type": "code",
   "execution_count": 46,
   "id": "2ebc0553-11dd-4fa5-abf6-84b495d2c264",
   "metadata": {},
   "outputs": [
    {
     "name": "stdout",
     "output_type": "stream",
     "text": [
      "Pipeline results for this specific TIFF-file (raw data) will be saved in the directory: C:\\Users\\micha\\Desktop\\MM_data_Pipeline_results_all\\MM_pipeline_results_converted_Z1\n"
     ]
    }
   ],
   "source": [
    "\"\"\"INPUT PATH TO FOLDER YOU WANT OUTPUTS TO BE IN\"\"\"\n",
    "output_folder = r\"C:\\Users\\micha\\Desktop\\MM_data_Pipeline_results_all\"\n",
    "\n",
    "\n",
    "\"\"\"INPUT FILE PATH TO RAW-DATA TIFF-FILE\"\"\"\n",
    "original_tiff_image_series = r\"C:\\Users\\micha\\Desktop\\Master_Project\\ORIGINAL_TIFF_Series_rawdata\\new_data\\converted_Z1.tiff\"\n",
    "\n",
    "\n",
    "#CREATE FOLDER WHERE ALL RESULTS FROM SPECIFIC RAW-DATA TIFF FILE TO SAVE\n",
    "base_name = os.path.splitext(os.path.basename(original_tiff_image_series))[0]\n",
    "result_folder = os.path.join(output_folder, f\"MM_pipeline_results_{base_name}\")\n",
    "os.makedirs(result_folder, exist_ok=True)\n",
    "print(f\"Pipeline results for this specific TIFF-file (raw data) will be saved in the directory: {result_folder}\")\n",
    "\n",
    "\n",
    "#CREATE DIRECTORY TO SAVE THE CROPPED TRAPS IN\n",
    "cropped_traps_output_dir = os.path.join(result_folder, \"Cropped_traps_directory\")\n",
    "os.makedirs(cropped_traps_output_dir, exist_ok=True)\n",
    "\n",
    "\n",
    "#CREATE DIRECTORY TO SAVE SEGMENTATION LABELS IN\n",
    "labels_directory = Path(os.path.join(result_folder, \"Labels_directory\"))\n",
    "labels_directory.mkdir(exist_ok=True)\n",
    "\n",
    "\n",
    "#READ IMAGES INTO PYTHON AND ROTATE THEM \n",
    "original_image_series = tifffile.imread(original_tiff_image_series)\n",
    "rotated_image_series = np.rot90(original_image_series, k=-1, axes=(2, 3))\n"
   ]
  },
  {
   "cell_type": "markdown",
   "id": "a30a70f2-0bbd-4078-bc8e-9c0b8853d711",
   "metadata": {
    "tags": []
   },
   "source": [
    "### View the image series in Napari (rotated 90 degrees right)\n",
    "View your raw tiff image file in Napari to make sure it looks good"
   ]
  },
  {
   "cell_type": "code",
   "execution_count": 47,
   "id": "09a56bfc-9ae8-4c9e-a834-019e57ac0b89",
   "metadata": {},
   "outputs": [
    {
     "name": "stdout",
     "output_type": "stream",
     "text": [
      "Original shape: (275, 2, 2044, 2048)\n",
      "Rotated shape: (275, 2, 2048, 2044)\n"
     ]
    },
    {
     "data": {
      "text/plain": [
       "'\\nviewer = napari.view_image(\\n        cells,\\n        channel_axis=1,\\n        name=[\"membrane\", \"nuclei\"],\\n        colormap=[\"green\", \"magenta\"],\\n        contrast_limits=[[1000, 20000], [1000, 50000]],\\n        )\\n        '"
      ]
     },
     "execution_count": 47,
     "metadata": {},
     "output_type": "execute_result"
    }
   ],
   "source": [
    "print(\"Original shape:\", original_image_series.shape)\n",
    "\n",
    "viewer = napari.Viewer()\n",
    "\n",
    "#viewer.add_image(rotated_image_series, name= 'new data')\n",
    "num_channels = rotated_image_series.shape[1]\n",
    "for channel in range(num_channels):\n",
    "    if channel == 1:\n",
    "        # Preserve color for the red fluorescence channel\n",
    "        viewer.add_image(rotated_image_series[:, channel, :, :], colormap='red', name=f'Red Fluorescence')\n",
    "    else:\n",
    "        # Convert other channels to grayscale\n",
    "        viewer.add_image(rotated_image_series[:, channel, :, :], colormap='gray', name=f'Channel {channel + 1}')\n",
    "    \n",
    "print(\"Rotated shape:\", rotated_image_series.shape)\n",
    "\n",
    "\n",
    "\"\"\"\n",
    "viewer = napari.view_image(\n",
    "        cells,\n",
    "        channel_axis=1,\n",
    "        name=[\"membrane\", \"nuclei\"],\n",
    "        colormap=[\"green\", \"magenta\"],\n",
    "        contrast_limits=[[1000, 20000], [1000, 50000]],\n",
    "        )\n",
    "        \"\"\""
   ]
  },
  {
   "cell_type": "markdown",
   "id": "890a7e88-bbbd-4ef5-97fc-5b61da292bb1",
   "metadata": {},
   "source": [
    "### Manual cropping of growth traps/channels for each image \n",
    "Manually draw boxes around traps (first frame of the tiff file), the coordinates for these will be saved and then used to crop all subsequent traps"
   ]
  },
  {
   "cell_type": "code",
   "execution_count": 4,
   "id": "058a49ba-9426-4c99-9eb6-0b7cd97d47a1",
   "metadata": {},
   "outputs": [
    {
     "name": "stdout",
     "output_type": "stream",
     "text": [
      "Trap coordinates: {1: (41.293999104343584, 7.0665024630543485, 293.51074787281664, 2041.997089117779), 2: (302.10904612628724, 4.200403045230814, 554.3257948947603, 2039.1309896999555), 3: (1686.4350649350652, 7.0665024630543485, 1938.6518137035382, 2041.997089117779)}\n"
     ]
    },
    {
     "name": "stderr",
     "output_type": "stream",
     "text": [
      "\n",
      "KeyboardInterrupt\n",
      "\n"
     ]
    }
   ],
   "source": [
    "matplotlib.use('Qt5Agg')  # Use 'Qt5Agg' backend\n",
    "\n",
    "class ManualTrapCropping:\n",
    "    def __init__(self, image_data, channel_index):\n",
    "        self.image = image_data[channel_index]\n",
    "        self.fig, self.ax = plt.subplots()\n",
    "        self.ax.imshow(self.image, cmap='gray')  # Display the image as grayscale\n",
    "        self.rectangles = {}\n",
    "        self.current_trap_index = 1\n",
    "        self.first_rect_coords = None\n",
    "        self.fixed_size = None\n",
    "        self.rs = RectangleSelector(self.ax, self.on_rectangle_select,\n",
    "                                     minspanx=5, minspany=5, spancoords='pixels', interactive=True)\n",
    "        plt.connect('key_press_event', self.on_key_press)\n",
    "\n",
    "    def on_rectangle_select(self, eclick, erelease):\n",
    "        if self.fixed_size is None:\n",
    "            # Store the dimensions of the first rectangle\n",
    "            self.fixed_size = (erelease.xdata - eclick.xdata, erelease.ydata - eclick.ydata)\n",
    "\n",
    "        # Use the fixed size for subsequent rectangles\n",
    "        x_min, y_min = eclick.xdata, eclick.ydata\n",
    "        x_max, y_max = x_min + self.fixed_size[0], y_min + self.fixed_size[1]\n",
    "\n",
    "        # Save the rectangle coordinates globally\n",
    "        global trap_coordinates_dict\n",
    "        trap_coordinates_dict[self.current_trap_index] = (x_min, y_min, x_max, y_max)\n",
    "\n",
    "    def on_key_press(self, event):\n",
    "        if event.key == 'enter':\n",
    "            # Draw the rectangle on the plot\n",
    "            rect_coords = trap_coordinates_dict[self.current_trap_index]\n",
    "            x_min, y_min, x_max, y_max = rect_coords\n",
    "            rect = plt.Rectangle((x_min, y_min), x_max - x_min, y_max - y_min, linewidth=1, edgecolor='r', facecolor='none')\n",
    "            self.ax.add_patch(rect)\n",
    "            plt.draw()\n",
    "\n",
    "            # Increment the trap index for the next rectangle\n",
    "            self.current_trap_index += 1\n",
    "\n",
    "        elif event.key == 'q':\n",
    "            # Print the final dictionary of rectangles\n",
    "            print(\"Trap coordinates:\", trap_coordinates_dict)\n",
    "            plt.close()\n",
    "\n",
    "# Initialize the dictionary globally\n",
    "trap_coordinates_dict = {}\n",
    "\n",
    "# Specify the channel index you want to crop\n",
    "channel_index_to_crop = 0  # Adjust this to the desired channel index\n",
    "\n",
    "# Create an instance of ManualTrapCropping\n",
    "manual_cropping = ManualTrapCropping(rotated_image_series[0], channel_index_to_crop)\n",
    "plt.show()\n"
   ]
  },
  {
   "cell_type": "markdown",
   "id": "4bf863f7-d0fb-4cd3-a225-3346692b6f74",
   "metadata": {
    "jp-MarkdownHeadingCollapsed": true
   },
   "source": [
    "### Print height and width for each trap:"
   ]
  },
  {
   "cell_type": "code",
   "execution_count": 5,
   "id": "64e81cc0-da8d-44eb-9a10-40fef8591f1e",
   "metadata": {},
   "outputs": [
    {
     "name": "stdout",
     "output_type": "stream",
     "text": [
      "Trap 1 Size: Width = 252.21674876847305, Height = 2034.9305866547247\n",
      "Trap 2 Size: Width = 252.21674876847305, Height = 2034.9305866547247\n",
      "Trap 3 Size: Width = 252.21674876847305, Height = 2034.9305866547247\n"
     ]
    }
   ],
   "source": [
    "def calculate_rectangle_size(trap_coordinates_dict):\n",
    "    sizes = {}\n",
    "\n",
    "    for trap_index, coord in trap_coordinates_dict.items():\n",
    "        x1, y1, x2, y2 = coord\n",
    "        width = x2 - x1\n",
    "        height = y2 - y1\n",
    "        sizes[trap_index] = {'width': width, 'height': height}\n",
    "\n",
    "    return sizes\n",
    "\n",
    "# Example usage\n",
    "rectangle_sizes = calculate_rectangle_size(trap_coordinates_dict)\n",
    "\n",
    "for trap_index, size in rectangle_sizes.items():\n",
    "    print(f\"Trap {trap_index} Size: Width = {size['width']}, Height = {size['height']}\")\n"
   ]
  },
  {
   "cell_type": "markdown",
   "id": "01c3ef66-964e-4148-9fe5-9e5f0123986f",
   "metadata": {
    "jp-MarkdownHeadingCollapsed": true
   },
   "source": [
    "### Visualisation of cropped traps\n",
    "Visualises cropped traps for first and last frame \n",
    "- Check first and last frame to assess shifts in X and Y"
   ]
  },
  {
   "cell_type": "code",
   "execution_count": 25,
   "id": "534f6b3f-034a-41cc-b76d-31d5db70ce1e",
   "metadata": {},
   "outputs": [
    {
     "ename": "NameError",
     "evalue": "name 'rotated_image_series' is not defined",
     "output_type": "error",
     "traceback": [
      "\u001b[1;31m---------------------------------------------------------------------------\u001b[0m",
      "\u001b[1;31mNameError\u001b[0m                                 Traceback (most recent call last)",
      "Cell \u001b[1;32mIn[25], line 35\u001b[0m\n\u001b[0;32m     33\u001b[0m \u001b[38;5;66;03m# Example usage with trap_coordinates_dict and channel_index\u001b[39;00m\n\u001b[0;32m     34\u001b[0m channel_index_to_crop \u001b[38;5;241m=\u001b[39m \u001b[38;5;241m0\u001b[39m \u001b[38;5;66;03m# Adjust this to the desired channel index\u001b[39;00m\n\u001b[1;32m---> 35\u001b[0m crop_visualise_image(\u001b[43mrotated_image_series\u001b[49m[\u001b[38;5;241m0\u001b[39m], trap_coordinates_dict, channel_index_to_crop)\n\u001b[0;32m     36\u001b[0m crop_visualise_image(rotated_image_series[\u001b[38;5;241m-\u001b[39m\u001b[38;5;241m1\u001b[39m], trap_coordinates_dict, channel_index_to_crop)\n",
      "\u001b[1;31mNameError\u001b[0m: name 'rotated_image_series' is not defined"
     ]
    }
   ],
   "source": [
    "%matplotlib widget\n",
    "import matplotlib.pyplot as plt\n",
    "\n",
    "def crop_visualise_image(image_data, trap_coordinates_dict, channel_index):\n",
    "    # Create subplots to display the original and cropped traps\n",
    "    num_traps = len(trap_coordinates_dict)\n",
    "    fig, axes = plt.subplots(1, num_traps + 1, figsize=(15, 5), squeeze=False)\n",
    "\n",
    "    # Display the original image in grayscale\n",
    "    original_channel = image_data[channel_index]\n",
    "    axes[0, 0].imshow(original_channel, cmap='gray') \n",
    "    axes[0, 0].set_title(\"Original Image\")\n",
    "\n",
    "    # Crop the image based on the rectangles and display each cropped trap\n",
    "    for i, (trap_index, rect_coords) in enumerate(trap_coordinates_dict.items(), start=1):\n",
    "        x_min, y_min, x_max, y_max = map(int, rect_coords)  # Ensure integer values\n",
    "    \n",
    "        # Ensure coordinates are within the image boundaries\n",
    "        x_min = max(0, x_min)\n",
    "        x_max = min(original_channel.shape[1], x_max)\n",
    "        y_min = max(0, y_min)\n",
    "        y_max = min(original_channel.shape[0], y_max)\n",
    "    \n",
    "        # Crop the image\n",
    "        cropped_trap = original_channel[y_min:y_max, x_min:x_max]\n",
    "    \n",
    "        # Display the cropped trap in grayscale\n",
    "        axes[0, i].imshow(cropped_trap, cmap='gray', extent=(x_min, x_max, y_max, y_min))\n",
    "        axes[0, i].set_title(f\"Cropped Trap {trap_index}\")\n",
    "\n",
    "    plt.show()\n",
    "\n",
    "# Example usage with trap_coordinates_dict and channel_index\n",
    "channel_index_to_crop = 0 # Adjust this to the desired channel index\n",
    "crop_visualise_image(rotated_image_series[0], trap_coordinates_dict, channel_index_to_crop)\n",
    "crop_visualise_image(rotated_image_series[-1], trap_coordinates_dict, channel_index_to_crop)\n"
   ]
  },
  {
   "cell_type": "markdown",
   "id": "abeb725d-2f29-44f7-a951-b81794b4a08d",
   "metadata": {},
   "source": [
    "### Crop the traps and save them as tiff-files (4D numpy-arrays (CTYX)) one for each trap\n",
    "Crops the traps based on the manual selection and saves each trap in different folders which correspond to trap position "
   ]
  },
  {
   "cell_type": "code",
   "execution_count": 7,
   "id": "d5eed488-760b-4f6a-acba-459c8b66175f",
   "metadata": {},
   "outputs": [
    {
     "data": {
      "application/vnd.jupyter.widget-view+json": {
       "model_id": "bb9d6b013aa040b2a0592c1dbb7702e3",
       "version_major": 2,
       "version_minor": 0
      },
      "text/plain": [
       "Processing Traps:   0%|          | 0/3 [00:00<?, ?trap/s]"
      ]
     },
     "metadata": {},
     "output_type": "display_data"
    }
   ],
   "source": [
    "\n",
    "# Define empty arrays\n",
    "shape_minmax_list= []\n",
    "cropped_traps_list = []\n",
    "cropped_traps_dict = {}\n",
    "# Loop to crop each trap\n",
    "for trap_index, rect_coords in trap_coordinates_dict.items():\n",
    "    x_min, y_min, x_max, y_max = map(int, rect_coords)  # Ensure integer values\n",
    "\n",
    "    #Ensure trap-coordinates are within the image boundaries\n",
    "    x_min = max(0, x_min)\n",
    "    x_max = min(rotated_image_series.shape[-1], x_max)\n",
    "    y_min = max(0, y_min)\n",
    "    y_max = min(rotated_image_series.shape[-2], y_max)\n",
    "\n",
    "    # Crop the image series\n",
    "    cropped_trap = rotated_image_series[:, :, y_min:y_max, x_min:x_max]\n",
    "\n",
    "    cropped_traps_dict[trap_index] = cropped_trap\n",
    "\n",
    "    #add trap X&Y to list\n",
    "    shape_minmax_list.append((cropped_trap.shape[-1], cropped_trap.shape[-2]))\n",
    "\n",
    "# Find the maximum values for the first and second elements\n",
    "transposed_list = list(zip(*shape_minmax_list))\n",
    "max_X = max(transposed_list[0])\n",
    "max_Y= max(transposed_list[1])\n",
    "\n",
    "\n",
    "#for loop to save padded traps in array\n",
    "for trap_index, cropped_trap in tqdm(cropped_traps_dict.items(), desc=\"Processing Traps\", unit=\"trap\"):\n",
    "    #calculate padding based on max X&Y\n",
    "    columns_to_pad = max(0, int(max_X) - cropped_trap.shape[-1])  # Pad along the last dimension (width/X)\n",
    "    rows_to_pad = max(0, int(max_Y) - cropped_trap.shape[-2])  # Pad along the second-to-last dimension (height/Y)\n",
    "    \n",
    "    if columns_to_pad > 0 or rows_to_pad > 0:\n",
    "        padded_trap = np.pad(cropped_trap, ((0, 0), (0, 0), (0, rows_to_pad), (0, columns_to_pad)), mode='constant', constant_values=0)\n",
    "    else:\n",
    "        padded_trap = cropped_trap\n",
    "\n",
    "    cropped_traps_filename = f\"trap_{trap_index}_all_frames_series.tiff\"\n",
    "    cropped_traps_filepath = os.path.join(cropped_traps_output_dir, cropped_traps_filename)\n",
    "    io.imsave(cropped_traps_filepath, padded_trap)\n",
    "\n",
    "\n"
   ]
  },
  {
   "cell_type": "markdown",
   "id": "f12e9e5a-1777-484d-81aa-0cb53d7d1713",
   "metadata": {
    "jp-MarkdownHeadingCollapsed": true,
    "tags": []
   },
   "source": [
    "### View the resulting cropped-trap tiff-files in Napari \n",
    "Specify which trap-series to view in the variable \"trap_number_to_view\""
   ]
  },
  {
   "cell_type": "code",
   "execution_count": 8,
   "id": "136c7825-070e-496a-93ba-1275dab6ad02",
   "metadata": {},
   "outputs": [],
   "source": [
    "trap_number_to_view = 1  # Change this to the desired trap number"
   ]
  },
  {
   "cell_type": "code",
   "execution_count": 9,
   "id": "4fcfa08e-6b8c-4574-bffd-d7018c555104",
   "metadata": {},
   "outputs": [
    {
     "name": "stdout",
     "output_type": "stream",
     "text": [
      "(275, 2, 2035, 252)\n"
     ]
    }
   ],
   "source": [
    "import napari\n",
    "from skimage import io as skio\n",
    "from pathlib import Path\n",
    "\n",
    "def load_trap_series(trap_number):\n",
    "    # Construct the file path based on the trap number\n",
    "    file_path = os.path.join(cropped_traps_output_dir, \"trap_{}_all_frames_series.tiff\".format(trap_number))\n",
    "    \n",
    "    # Read the tiff file\n",
    "    tiff_stack = skio.imread(file_path)\n",
    "    print(tiff_stack.shape)\n",
    "    return tiff_stack\n",
    "\n",
    "# Load the tiff stack for the specified trap\n",
    "trap_stack = load_trap_series(trap_number_to_view)\n",
    "\n",
    "# Open Napari viewer\n",
    "viewer = napari.Viewer()\n",
    "\n",
    "# Add the tiff stack as a 3D layer\n",
    "viewer.add_image(trap_stack, name=f'Trap {trap_number_to_view} - All Frames Series', colormap='gray')\n",
    "\n",
    "# Start the Napari viewer\n",
    "napari.run()\n"
   ]
  },
  {
   "cell_type": "markdown",
   "id": "c2aec272-abb6-478a-9698-ce7a083b8012",
   "metadata": {},
   "source": [
    "### Parameters for the cellpose model as well as for filtering labels post segemenation"
   ]
  },
  {
   "cell_type": "code",
   "execution_count": 17,
   "id": "2645462a-45cd-4da9-b141-0a72770757ca",
   "metadata": {},
   "outputs": [],
   "source": [
    "\"\"\"DEFINE CELLPOSE MODEL AND IF YOU HAVE GPU\"\"\"\n",
    "model = models.Cellpose(gpu=False, model_type='cyto2')\n",
    "\n",
    "\n",
    "\"\"\"PARAMETERS FOR THE CELLPOSE MODEL\"\"\"\n",
    "custom_params_segmentation = {\n",
    "    'diameter': 80.0,\n",
    "    'interp': 'lanczos3',\n",
    "    'cellprob_threshold': 0.1,\n",
    "    'flow_threshold': 0.4,\n",
    "    'min_size': 500\n",
    "}\n"
   ]
  },
  {
   "cell_type": "markdown",
   "id": "314e8297-faf5-4eef-afd9-cdedbf7b4e19",
   "metadata": {
    "jp-MarkdownHeadingCollapsed": true
   },
   "source": [
    "### CELLPOSE on entire image series and saving labels in Labels_directory"
   ]
  },
  {
   "cell_type": "code",
   "execution_count": 8,
   "id": "8a88e89b-308b-4880-9f2c-544f91ef5e0b",
   "metadata": {},
   "outputs": [
    {
     "name": "stderr",
     "output_type": "stream",
     "text": [
      "100%|██████████| 550/550 [00:00<00:00, 665.37it/s]\n"
     ]
    },
    {
     "data": {
      "application/vnd.jupyter.widget-view+json": {
       "model_id": "c3940d211fe346a1912781cfe05f98ba",
       "version_major": 2,
       "version_minor": 0
      },
      "text/plain": [
       "Processing frames for trap_1_all_frames_series.tiff:   0%|          | 0/275 [00:00<?, ? frames/s]"
      ]
     },
     "metadata": {},
     "output_type": "display_data"
    },
    {
     "name": "stderr",
     "output_type": "stream",
     "text": [
      "100%|██████████| 550/550 [00:01<00:00, 488.28it/s]\n"
     ]
    },
    {
     "data": {
      "application/vnd.jupyter.widget-view+json": {
       "model_id": "a4dbe813b07a4aaba3ad60b9a0a1d4eb",
       "version_major": 2,
       "version_minor": 0
      },
      "text/plain": [
       "Processing frames for trap_2_all_frames_series.tiff:   0%|          | 0/275 [00:00<?, ? frames/s]"
      ]
     },
     "metadata": {},
     "output_type": "display_data"
    },
    {
     "name": "stderr",
     "output_type": "stream",
     "text": [
      "100%|██████████| 550/550 [00:01<00:00, 490.99it/s]\n"
     ]
    },
    {
     "data": {
      "application/vnd.jupyter.widget-view+json": {
       "model_id": "ed52ef25a79a4be383b0c3f53ce1a16f",
       "version_major": 2,
       "version_minor": 0
      },
      "text/plain": [
       "Processing frames for trap_3_all_frames_series.tiff:   0%|          | 0/275 [00:00<?, ? frames/s]"
      ]
     },
     "metadata": {},
     "output_type": "display_data"
    }
   ],
   "source": [
    "import numpy as np\n",
    "from cellpose import models, io\n",
    "from skimage import io as skio, measure\n",
    "import os\n",
    "from pathlib import Path\n",
    "from tqdm.notebook import tqdm\n",
    "import warnings\n",
    "\n",
    "# Define the input directory for the TIFF files of cropped traps\n",
    "img_dir = cropped_traps_output_dir\n",
    "\n",
    "# List all files in the input directory\n",
    "files_traps_tiff = [f for f in os.listdir(img_dir) if f.endswith('.tiff')]\n",
    "\n",
    "# DEFINE CELLPOSE MODEL\n",
    "# model_type='cyto' or model_type='nuclei'\n",
    "model = models.Cellpose(gpu=False, model_type='cyto2')\n",
    "\n",
    "# or if you have different types of channels in each image\n",
    "channels = [[1, 1]]\n",
    "\n",
    "warnings.filterwarnings(\"ignore\")\n",
    "\n",
    "# Loop through each tiff file and perform segmentation for all frames\n",
    "for tiff_file_trap in files_traps_tiff:\n",
    "    warnings.filterwarnings(\"ignore\")\n",
    "\n",
    "    # Convert the string filename to a Path object\n",
    "    tiff_file_trap = Path(tiff_file_trap)\n",
    "\n",
    "    # Construct the full path to the trap_tiff file\n",
    "    tiff_path_trap = os.path.join(img_dir, tiff_file_trap)\n",
    "\n",
    "    # Read the trap_tiff image\n",
    "    img_trap = io.imread(tiff_path_trap)\n",
    "\n",
    "    # Create an empty array to store segmented masks for all frames\n",
    "    masks_trap_all_frames = np.zeros_like(img_trap, dtype=np.uint16)\n",
    "\n",
    "        # Loop through each frame in the trap_tiff file\n",
    "    for frame_index, frame in tqdm(enumerate(img_trap), desc=f\"Processing frames for {tiff_file_trap}\", total=img_trap.shape[0], unit=\" frames\"):\n",
    "        # Your existing code for processing each frame\n",
    "            warnings.filterwarnings(\"ignore\")\n",
    "    \n",
    "            # Perform cell segmentation for each frame\n",
    "            masks_trap, _, _, _ = model.eval(frame, channels=channels, **custom_params_segmentation)\n",
    "        \n",
    "            # Save the unique cell labels for each frame\n",
    "            labels_trap_frame = measure.label(masks_trap)\n",
    "    \n",
    "            # Accumulate the labels in a new 4D array\n",
    "            masks_trap_all_frames[frame_index] = labels_trap_frame\n",
    "            #strip channel dimension to make it 3D\n",
    "            masks_3D_all_frames = masks_trap_all_frames[:, 0, :, :]\n",
    "        \n",
    "            # Save the 3D NumPy array as a single TIFF file in the labels_directory\n",
    "            labels_file_trap = labels_directory / f\"{tiff_file_trap.stem}_test.tiff\"\n",
    "            skio.imsave(labels_file_trap, masks_3D_all_frames.astype(np.uint16), plugin='tifffile')\n"
   ]
  },
  {
   "cell_type": "markdown",
   "id": "1130a6eb-5fa0-4266-b7fb-231b0866c9ae",
   "metadata": {},
   "source": [
    "### View labels and traps in Napari\n",
    "Unfiltered!"
   ]
  },
  {
   "cell_type": "code",
   "execution_count": 3,
   "id": "2550597e-2e91-4e26-9f60-c1d572f042d8",
   "metadata": {},
   "outputs": [],
   "source": [
    "\"\"\"PARAMETERS FOR FILTERING LABELS AFTER SEGMENTATION\"\"\"\n",
    "# Filtering thresholds\n",
    "min_area_threshold = 500\n",
    "max_area_threshold = 12000\n"
   ]
  },
  {
   "cell_type": "markdown",
   "id": "3865481a-55d9-4af0-8b1b-6e2adb5b16ff",
   "metadata": {},
   "source": [
    "### Filter and visualize labels (filtered + unfiltered) on traps"
   ]
  },
  {
   "cell_type": "code",
   "execution_count": 36,
   "id": "87e37d7f-c18a-4905-9568-89d0dfea8ac1",
   "metadata": {
    "tags": []
   },
   "outputs": [
    {
     "data": {
      "application/vnd.jupyter.widget-view+json": {
       "model_id": "4d960d2999f8464eb624e4de94ff9d46",
       "version_major": 2,
       "version_minor": 0
      },
      "text/plain": [
       "Processing Frames:   0%|          | 0/275 [00:00<?, ?it/s]"
      ]
     },
     "metadata": {},
     "output_type": "display_data"
    }
   ],
   "source": [
    "\n",
    "croppedtrap_frames_list = []\n",
    "\n",
    "original_files = sorted(Path(cropped_traps_output_dir).glob(\"*.tiff\"))\n",
    "original_image_file_paths = labels_file_paths = [str(file_path) for file_path in original_files]\n",
    "\n",
    "#orginal frame layering: \n",
    "for frame_index in tqdm(range(len(tifffile.imread(labels_file_paths[0]))), desc=\"Processing Frames\"):\n",
    "\n",
    "    original_frames_for_timepoint = []\n",
    "\n",
    "    for original_image_tiff in original_image_file_paths:\n",
    "        original_image_array = tifffile.imread(original_image_tiff)[:, 0, :, :]\n",
    "        original_frame = original_image_array[frame_index]\n",
    "        \n",
    "        original_frames_for_timepoint.append(original_frame)\n",
    "        \n",
    "    croppedtrap_stacked_frames_for_timepoint = np.vstack(original_frames_for_timepoint)\n",
    "    croppedtrap_frames_list.append(croppedtrap_stacked_frames_for_timepoint) \n",
    "\n",
    "\n",
    "croppedtrap_frames_array = np.stack(croppedtrap_frames_list)\n",
    "\n"
   ]
  },
  {
   "cell_type": "code",
   "execution_count": 39,
   "id": "64bbf39d-4a63-4876-b4d4-6a12d31f3f1c",
   "metadata": {
    "tags": []
   },
   "outputs": [
    {
     "data": {
      "text/plain": [
       "<Image layer 'Cropped Traps' at 0x26cccba3b50>"
      ]
     },
     "execution_count": 39,
     "metadata": {},
     "output_type": "execute_result"
    },
    {
     "name": "stderr",
     "output_type": "stream",
     "text": [
      "WARNING: QWindowsWindow::setGeometry: Unable to set geometry 1920x984+0+34 (frame: 1942x1040-11-11) on QWidgetWindow/\"_QtMainWindowClassWindow\" on \"\\\\.\\DISPLAY1\". Resulting geometry: 1920x974+0+34 (frame: 1942x1030-11-11) margins: 11, 45, 11, 11 minimum size: 521x492 MINMAXINFO maxSize=0,0 maxpos=0,0 mintrack=1064,1040 maxtrack=0,0)\n"
     ]
    }
   ],
   "source": [
    "viewer = napari.Viewer()\n",
    "\n",
    "viewer.add_image(croppedtrap_frames_array, name=\"Cropped Traps\", scale=[1, 1, 1])"
   ]
  },
  {
   "cell_type": "code",
   "execution_count": 43,
   "id": "386f1f71-d0d6-48bd-8a38-f7ddd6ed73ab",
   "metadata": {},
   "outputs": [
    {
     "data": {
      "application/vnd.jupyter.widget-view+json": {
       "model_id": "2c392dcb36924e92ab4a0721ab0aab9c",
       "version_major": 2,
       "version_minor": 0
      },
      "text/plain": [
       "Processing Frames:   0%|          | 0/275 [00:00<?, ?it/s]"
      ]
     },
     "metadata": {},
     "output_type": "display_data"
    },
    {
     "data": {
      "text/plain": [
       "<Image layer 'Cropped Traps' at 0x26ddeb4ac90>"
      ]
     },
     "execution_count": 43,
     "metadata": {},
     "output_type": "execute_result"
    }
   ],
   "source": [
    "import numpy as np\n",
    "from skimage import measure\n",
    "import tifffile\n",
    "import napari\n",
    "from pathlib import Path\n",
    "from scipy.ndimage import binary_dilation, binary_erosion\n",
    "\n",
    "\n",
    "# Filtering function:\n",
    "def filter_labels_function(labels, min_area_threshold, max_area_threshold):\n",
    "    # Initialize an empty array to store the filtered labels\n",
    "    filtered_labels = np.zeros_like(labels)\n",
    "    for region in reversed(measure.regionprops(labels)):\n",
    "        if min_area_threshold < region.area < max_area_threshold:\n",
    "            #if condition is met, extract coords\n",
    "            coords = region.coords\n",
    "            #If condition is met change set to 1\n",
    "            filtered_labels[coords[:, 0], coords[:, 1]] = region.label\n",
    "            \n",
    "    # Apply dilation + erosion to refine shapes (closing)\n",
    "    filtered_labels = binary_dilation(filtered_labels, structure=np.ones((3, 3)))\n",
    "    filtered_labels = binary_erosion(filtered_labels, structure=np.ones((3, 3)))\n",
    "\n",
    "    return filtered_labels\n",
    "\n",
    "\n",
    "# Load label files as 3D array\n",
    "filtered_frames_list = []  # List to store individual filtered frames\n",
    "unfiltered_frames_list = []  # List to store individual filtered frames\n",
    "\n",
    "\n",
    "labels_files = sorted(Path(labels_directory).glob(\"*.tiff\"))\n",
    "labels_file_paths = [str(file_path) for file_path in labels_files]\n",
    "\n",
    "\n",
    "\n",
    "# Iterate over frames for each time point and stack frames across files\n",
    "for frame_index in tqdm(range(len(tifffile.imread(labels_file_paths[0]))), desc=\"Processing Frames\"):\n",
    "    \n",
    "    #create empty lists to store data for time points:\n",
    "    filtered_frames_for_timepoint = []  \n",
    "    unfiltered_frames_for_timepoint = []    \n",
    "\n",
    "    for label_tiff in labels_file_paths: \n",
    "        labels_array = tifffile.imread(label_tiff)\n",
    "        frame = labels_array[frame_index]\n",
    "\n",
    "               \n",
    "        filtered_labels = filter_labels_function(frame, min_area_threshold, max_area_threshold)\n",
    "        filtered_frames_for_timepoint.append(filtered_labels)\n",
    "        \n",
    "        unfiltered_frames_for_timepoint.append(frame)\n",
    "\n",
    "    # Vertically stack frames for each time point across files (filtered labels)\n",
    "    stacked_frames_for_timepoint = np.vstack(filtered_frames_for_timepoint)\n",
    "    filtered_frames_list.append(stacked_frames_for_timepoint)\n",
    "    \n",
    "    #stack unfiltered labels\n",
    "    unfiltered_stacked_frames_for_timepoint = np.vstack(unfiltered_frames_for_timepoint)\n",
    "    unfiltered_frames_list.append(unfiltered_stacked_frames_for_timepoint)\n",
    "\n",
    "# Combine the stacked frames for all time points into a single array\n",
    "filtered_frames_array = np.stack(filtered_frames_list)\n",
    "unfiltered_frames_array = np.stack(unfiltered_frames_list)\n",
    "\n",
    "\n",
    "# Display the combined array as a single layer in Napari\n",
    "viewer = napari.Viewer()\n",
    "viewer.add_image(filtered_frames_array, name=\"Filtered Labels\", colormap = \"red\", scale=[1, 1, 1])\n",
    "viewer.add_image(unfiltered_frames_array, name=\"Unfiltered Labels\", colormap = \"green\", scale=[1, 1, 1])\n",
    "viewer.add_image(croppedtrap_frames_array, name=\"Cropped Traps\", scale=[1, 1, 1])\n",
    "\n",
    "\n"
   ]
  },
  {
   "cell_type": "code",
   "execution_count": 45,
   "id": "275063fd-66c3-4ca3-b5d0-f608b1e0fef0",
   "metadata": {
    "tags": []
   },
   "outputs": [
    {
     "data": {
      "text/plain": [
       "<Image layer 'Unfiltered Labels' at 0x26ee9920090>"
      ]
     },
     "execution_count": 45,
     "metadata": {},
     "output_type": "execute_result"
    },
    {
     "name": "stderr",
     "output_type": "stream",
     "text": [
      "WARNING: QWindowsWindow::setGeometry: Unable to set geometry 1920x988+0+34 (frame: 1942x1044-11-11) on QWidgetWindow/\"_QtMainWindowClassWindow\" on \"\\\\.\\DISPLAY1\". Resulting geometry: 1920x974+0+34 (frame: 1942x1030-11-11) margins: 11, 45, 11, 11 minimum size: 562x494 MINMAXINFO maxSize=0,0 maxpos=0,0 mintrack=1146,1044 maxtrack=0,0)\n"
     ]
    }
   ],
   "source": [
    "viewer = napari.Viewer()\n",
    "viewer.add_image(croppedtrap_frames_array, name=\"Cropped Traps\", scale=[1, 1, 1])\n",
    "viewer.add_image(filtered_frames_array, name=\"Filtered Labels\", colormap = \"red\", scale=[1, 1, 1])\n",
    "viewer.add_image(unfiltered_frames_array, name=\"Unfiltered Labels\", colormap = \"green\", scale=[1, 1, 1])"
   ]
  },
  {
   "cell_type": "code",
   "execution_count": 26,
   "id": "dea3dea4-5f2f-4c27-93bd-da8f6415bb59",
   "metadata": {},
   "outputs": [
    {
     "name": "stderr",
     "output_type": "stream",
     "text": [
      "WARNING: QWindowsWindow::setGeometry: Unable to set geometry 1924x1212+0+34 (frame: 1946x1268-11-11) on QWidgetWindow/\"_QtMainWindowClassWindow\" on \"\\\\.\\DISPLAY1\". Resulting geometry: 1920x974+0+34 (frame: 1942x1030-11-11) margins: 11, 45, 11, 11 minimum size: 445x606 MINMAXINFO maxSize=0,0 maxpos=0,0 mintrack=912,1268 maxtrack=0,0)\n",
      "WARNING: QWindowsWindow::setGeometry: Unable to set geometry 1920x1212+0+34 (frame: 1942x1268-11-11) on QWidgetWindow/\"_QtMainWindowClassWindow\" on \"\\\\.\\DISPLAY1\". Resulting geometry: 1920x974+0+34 (frame: 1942x1030-11-11) margins: 11, 45, 11, 11 minimum size: 521x606 MINMAXINFO maxSize=0,0 maxpos=0,0 mintrack=1064,1268 maxtrack=0,0)\n",
      "WARNING: QWindowsWindow::setGeometry: Unable to set geometry 1920x1216+0+34 (frame: 1942x1272-11-11) on QWidgetWindow/\"_QtMainWindowClassWindow\" on \"\\\\.\\DISPLAY1\". Resulting geometry: 1920x974+0+34 (frame: 1942x1030-11-11) margins: 11, 45, 11, 11 minimum size: 521x608 MINMAXINFO maxSize=0,0 maxpos=0,0 mintrack=1064,1272 maxtrack=0,0)\n"
     ]
    }
   ],
   "source": [
    "from pathlib import Path\n",
    "import tifffile\n",
    "import napari\n",
    "\n",
    "# Specify the directories\n",
    "img_dir = cropped_traps_output_dir\n",
    "labels_dir = labels_directory\n",
    "\n",
    "# Get sorted lists of image and labels files\n",
    "img_files = sorted(Path(img_dir).glob(\"*.tiff\"))\n",
    "labels_files = sorted(Path(labels_dir).glob(\"*.tiff\"))\n",
    "\n",
    "# Initialize Napari viewer\n",
    "\n",
    "viewer = napari.Viewer()\n",
    "\n",
    "# Loop through each pair of image and labels files\n",
    "for img_file, labels_file in zip(img_files, labels_files):\n",
    "    # Load image and labels from disk\n",
    "    img_ctyx = tifffile.imread(img_file)\n",
    "    labels_tyx = tifffile.imread(labels_file)\n",
    "    img_channel = img_ctyx[:, 0, :, :]\n",
    "\n",
    "    # Add the image and labels to Napari\n",
    "    viewer.add_image(img_channel, name=img_file.stem)\n",
    "    viewer.add_labels(labels_tyx, name=img_file.stem + '_labels')\n",
    "\n"
   ]
  },
  {
   "cell_type": "markdown",
   "id": "4316f461-0e92-431a-a004-303718f9b894",
   "metadata": {},
   "source": [
    "### View labels + traps in Napari\n",
    "Filtered! \n",
    "Also saved filtered images in dict for later use\n"
   ]
  },
  {
   "cell_type": "code",
   "execution_count": 23,
   "id": "297b228f-0d96-4d83-9094-13449eb0ad1b",
   "metadata": {},
   "outputs": [
    {
     "name": "stderr",
     "output_type": "stream",
     "text": [
      "WARNING: QWindowsWindow::setGeometry: Unable to set geometry 1924x1212+0+34 (frame: 1946x1268-11-11) on QWidgetWindow/\"_QtMainWindowClassWindow\" on \"\\\\.\\DISPLAY1\". Resulting geometry: 1920x974+0+34 (frame: 1942x1030-11-11) margins: 11, 45, 11, 11 minimum size: 445x606 MINMAXINFO maxSize=0,0 maxpos=0,0 mintrack=912,1268 maxtrack=0,0)\n",
      "WARNING: QWindowsWindow::setGeometry: Unable to set geometry 1920x1212+0+34 (frame: 1942x1268-11-11) on QWidgetWindow/\"_QtMainWindowClassWindow\" on \"\\\\.\\DISPLAY1\". Resulting geometry: 1920x974+0+34 (frame: 1942x1030-11-11) margins: 11, 45, 11, 11 minimum size: 521x606 MINMAXINFO maxSize=0,0 maxpos=0,0 mintrack=1064,1268 maxtrack=0,0)\n",
      "WARNING: QWindowsWindow::setGeometry: Unable to set geometry 1920x1216+0+34 (frame: 1942x1272-11-11) on QWidgetWindow/\"_QtMainWindowClassWindow\" on \"\\\\.\\DISPLAY1\". Resulting geometry: 1920x974+0+34 (frame: 1942x1030-11-11) margins: 11, 45, 11, 11 minimum size: 521x608 MINMAXINFO maxSize=0,0 maxpos=0,0 mintrack=1064,1272 maxtrack=0,0)\n"
     ]
    }
   ],
   "source": [
    "from pathlib import Path\n",
    "import tifffile\n",
    "import napari\n",
    "from skimage.measure import regionprops, label\n",
    "from skimage.segmentation import clear_border\n",
    "import numpy as np\n",
    "\n",
    "# Specify the directories\n",
    "img_dir = cropped_traps_output_dir\n",
    "labels_dir = labels_directory\n",
    "\n",
    "# Get sorted lists of image and labels files\n",
    "img_files = sorted(Path(img_dir).glob(\"*.tiff\"))\n",
    "labels_files = sorted(Path(labels_dir).glob(\"*.tiff\"))\n",
    "\n",
    "# Initialize Napari viewer'\n",
    "\n",
    "viewer = napari.Viewer()\n",
    "\n",
    "# Dictionary to store filtered masks\n",
    "filtered_masks_dict = {}\n",
    "\n",
    "# Loop through each pair of image and labels files\n",
    "for img_file, labels_file in zip(img_files, labels_files):\n",
    "    # Load image and labels from disk\n",
    "    img_ctyx = tifffile.imread(img_file)\n",
    "    labels_tyx = tifffile.imread(labels_file)\n",
    "\n",
    "    # Apply clear_border to remove labeled regions touching the border\n",
    "    filtered_labels_no_border = clear_border(labels_tyx)\n",
    "\n",
    "    # Initialize empty array to store filtered labels\n",
    "    filtered_labels = np.zeros_like(filtered_labels_no_border, dtype=bool)\n",
    "\n",
    "    # Iterate over each 2D slice of the 3D labels array\n",
    "    for slice_idx in range(filtered_labels_no_border.shape[0]):\n",
    "        # Check if the slice is 1D\n",
    "        if filtered_labels_no_border[slice_idx].ndim == 1:\n",
    "            # Accumulate boolean values\n",
    "            filtered_labels[slice_idx] = filtered_labels_no_border[slice_idx]\n",
    "        else:\n",
    "            # Apply regionprops to compute properties for each 2D slice\n",
    "            labeled_cells_slice = label(filtered_labels_no_border[slice_idx])\n",
    "            for region in regionprops(labeled_cells_slice):\n",
    "                # Apply filtering criteria\n",
    "                if (\n",
    "                    min_area_threshold < region.area < max_area_threshold \n",
    "                    #AND <- ÄNDRA TILL LOWER CASE region.eccentricity < max_eccentricity_threshold and (4 * np.pi * region.area) / (region.equivalent_diameter**2) > min_circularity_threshold\n",
    "                ):\n",
    "                    # Include the region in the filtered labels\n",
    "                    filtered_labels[slice_idx] |= (labeled_cells_slice == region.label)\n",
    "\n",
    "    # Convert boolean to uint16\n",
    "    filtered_labels = filtered_labels.astype(np.uint16)\n",
    "\n",
    "    # Add the image and filtered labels to Napari\n",
    "    viewer.add_image(img_ctyx, name=img_file.stem)\n",
    "    viewer.add_labels(filtered_labels, name=img_file.stem + '_filtered_labels')\n",
    "\n",
    "    # Save the filtered mask in the dictionary\n",
    "    filtered_masks_dict[img_file.stem] = filtered_labels\n",
    "\n",
    "# Start the Napari viewer\n",
    "napari.run()\n"
   ]
  },
  {
   "cell_type": "markdown",
   "id": "02f39620-3250-44b5-b792-844e5153dbb0",
   "metadata": {
    "tags": []
   },
   "source": [
    "### Extract region props from the images"
   ]
  },
  {
   "cell_type": "code",
   "execution_count": 12,
   "id": "5bc4bdb1-f7fa-4b46-9e4a-01caa1f4f070",
   "metadata": {},
   "outputs": [
    {
     "name": "stdout",
     "output_type": "stream",
     "text": [
      "{'trap_1_all_frames_series': {0: [], 1: [], 2: [], 3: [], 4: [], 5: [{'label': 1, 'area': 8196.0, 'centroid': (517.7008296730112, 131.3373596876525), 'equivalent_diameter': 102.15415463234666}], 6: [{'label': 1, 'area': 8068.0, 'centroid': (518.5658155676748, 130.79065443728308), 'equivalent_diameter': 101.35332578126528}], 7: [{'label': 1, 'area': 8026.0, 'centroid': (519.54211313232, 130.93084973835036), 'equivalent_diameter': 101.08917145789857}], 8: [{'label': 1, 'area': 8062.0, 'centroid': (520.4228479285537, 130.7468370131481), 'equivalent_diameter': 101.31563161553542}], 9: [{'label': 1, 'area': 8039.0, 'centroid': (521.6029356885185, 130.81353402164447), 'equivalent_diameter': 101.1710072111866}], 10: [{'label': 1, 'area': 8099.0, 'centroid': (521.7858994937646, 130.66687245338932), 'equivalent_diameter': 101.547856071953}], 11: [{'label': 1, 'area': 8293.0, 'centroid': (521.8165923067647, 130.73495719281323), 'equivalent_diameter': 102.75687589883562}], 12: [{'label': 1, 'area': 8135.0, 'centroid': (523.3221880762139, 129.96090964966194), 'equivalent_diameter': 101.77329559575315}], 13: [{'label': 1, 'area': 8167.0, 'centroid': (523.2563976980531, 129.65262642341128), 'equivalent_diameter': 101.97326787865569}], 14: [{'label': 1, 'area': 8235.0, 'centroid': (524.0418943533698, 129.54061930783243), 'equivalent_diameter': 102.39691231132932}], 15: [{'label': 1, 'area': 8146.0, 'centroid': (524.2150748833783, 129.0928062852934), 'equivalent_diameter': 101.84208035685758}], 16: [{'label': 1, 'area': 8219.0, 'centroid': (525.511376079815, 129.12823944518797), 'equivalent_diameter': 102.29738910733892}], 17: [{'label': 1, 'area': 8171.0, 'centroid': (525.7950067311223, 128.98861828417574), 'equivalent_diameter': 101.99823684765838}], 18: [{'label': 1, 'area': 8086.0, 'centroid': (526.9704427405392, 128.73423200593618), 'equivalent_diameter': 101.46632425947304}], 19: [{'label': 1, 'area': 8148.0, 'centroid': (527.297619047619, 128.87285223367698), 'equivalent_diameter': 101.85458168635374}], 20: [{'label': 1, 'area': 8197.0, 'centroid': (527.4046602415518, 128.3121873856289), 'equivalent_diameter': 102.16038639411134}], 21: [{'label': 1, 'area': 8133.0, 'centroid': (527.8431083241117, 127.95069470060248), 'equivalent_diameter': 101.76078428024756}], 22: [{'label': 1, 'area': 8147.0, 'centroid': (528.1221308457101, 127.78151466797594), 'equivalent_diameter': 101.84833121341444}], 23: [{'label': 1, 'area': 8145.0, 'centroid': (528.4674033149171, 127.68103130755064), 'equivalent_diameter': 101.83582911661249}], 24: [{'label': 1, 'area': 8179.0, 'centroid': (528.80792272894, 127.57146350409586), 'equivalent_diameter': 102.04815645757103}], 25: [{'label': 1, 'area': 8009.0, 'centroid': (528.8535397677613, 128.01947808715195), 'equivalent_diameter': 100.98205540482883}], 26: [{'label': 1, 'area': 8092.0, 'centroid': (529.4552644587246, 127.75259515570934), 'equivalent_diameter': 101.50396246451139}], 27: [{'label': 1, 'area': 7868.0, 'centroid': (529.7147941026944, 127.61146415861718), 'equivalent_diameter': 100.08920390319958}], 28: [{'label': 1, 'area': 7814.0, 'centroid': (530.1034041464039, 127.3125159969286), 'equivalent_diameter': 99.74514425555041}], 29: [{'label': 1, 'area': 7999.0, 'centroid': (529.5551943992999, 127.8067258407301), 'equivalent_diameter': 100.91899285236931}], 30: [{'label': 1, 'area': 8017.0, 'centroid': (530.2625670450293, 127.50168392166646), 'equivalent_diameter': 101.0324771058386}], 31: [{'label': 1, 'area': 7814.0, 'centroid': (530.7430253391349, 127.09035065267469), 'equivalent_diameter': 99.74514425555041}], 32: [{'label': 1, 'area': 7791.0, 'centroid': (530.3178025927352, 127.73238351944552), 'equivalent_diameter': 99.59823940728899}], 33: [{'label': 1, 'area': 7857.0, 'centroid': (531.0140002545501, 127.16813032964235), 'equivalent_diameter': 100.01921366909546}], 34: [{'label': 1, 'area': 7921.0, 'centroid': (530.9608635273324, 126.96313596768084), 'equivalent_diameter': 100.42574587150062}], 35: [{'label': 1, 'area': 7699.0, 'centroid': (531.4156383945967, 126.64969476555397), 'equivalent_diameter': 99.00844032160096}], 36: [{'label': 1, 'area': 7914.0, 'centroid': (531.200277988375, 126.68119787717968), 'equivalent_diameter': 100.3813616018137}], 37: [{'label': 1, 'area': 7956.0, 'centroid': (530.5367018602312, 126.61337355455002), 'equivalent_diameter': 100.64737362650331}], 38: [{'label': 1, 'area': 7940.0, 'centroid': (531.07040302267, 126.39974811083124), 'equivalent_diameter': 100.54611869782539}], 39: [{'label': 1, 'area': 8133.0, 'centroid': (531.035288331489, 126.44497725316612), 'equivalent_diameter': 101.76078428024756}], 40: [{'label': 1, 'area': 7973.0, 'centroid': (530.8849868305531, 126.30515489778001), 'equivalent_diameter': 100.75484549228118}], 41: [{'label': 1, 'area': 7963.0, 'centroid': (530.6119552932312, 126.54376491272133), 'equivalent_diameter': 100.69164063975768}], 42: [{'label': 1, 'area': 7939.0, 'centroid': (530.8235294117648, 125.79581811311249), 'equivalent_diameter': 100.53978687888919}], 43: [{'label': 1, 'area': 7948.0, 'centroid': (531.2546552591847, 126.25578761952693), 'equivalent_diameter': 100.59675890184073}], 44: [{'label': 1, 'area': 7978.0, 'centroid': (531.0436199548759, 126.36876410127851), 'equivalent_diameter': 100.78643305473773}], 45: [{'label': 1, 'area': 7957.0, 'centroid': (531.3574211386201, 125.72112605253236), 'equivalent_diameter': 100.65369867748373}], 46: [{'label': 1, 'area': 7933.0, 'centroid': (531.5838900794151, 126.2808521366444), 'equivalent_diameter': 100.50178758800286}], 47: [{'label': 1, 'area': 7782.0, 'centroid': (531.7931123104601, 126.37432536622975), 'equivalent_diameter': 99.54069588429165}], 48: [{'label': 1, 'area': 7735.0, 'centroid': (532.0827407886231, 126.4223658694247), 'equivalent_diameter': 99.23964872230495}], 49: [{'label': 1, 'area': 8003.0, 'centroid': (531.6263901037111, 126.2599025365488), 'equivalent_diameter': 100.94422260097656}], 50: [{'label': 1, 'area': 8063.0, 'centroid': (531.381619744512, 125.77874240357187), 'equivalent_diameter': 101.32191495031871}], 51: [{'label': 1, 'area': 7904.0, 'centroid': (532.1859817813765, 125.62512651821862), 'equivalent_diameter': 100.31792143773079}], 52: [{'label': 1, 'area': 7949.0, 'centroid': (532.3134985532771, 126.20996351742357), 'equivalent_diameter': 100.6030871350368}], 53: [{'label': 1, 'area': 7690.0, 'centroid': (532.8564369310793, 125.75110533159948), 'equivalent_diameter': 98.95055380852297}], 54: [{'label': 1, 'area': 7733.0, 'centroid': (533.3329884908833, 126.12854002327687), 'equivalent_diameter': 99.22681794473213}], 55: [{'label': 1, 'area': 7787.0, 'centroid': (533.749068961089, 126.24540901502505), 'equivalent_diameter': 99.57266861369496}], 56: [{'label': 1, 'area': 7979.0, 'centroid': (532.7687680160421, 126.75723774909136), 'equivalent_diameter': 100.79274937931727}], 57: [{'label': 1, 'area': 7941.0, 'centroid': (532.83062586576, 126.90756831633296), 'equivalent_diameter': 100.552450118045}], 58: [{'label': 1, 'area': 7764.0, 'centroid': (533.1139876352396, 127.11849562081402), 'equivalent_diameter': 99.42550892665224}], 59: [{'label': 1, 'area': 7970.0, 'centroid': (533.9818067754078, 126.40439146800502), 'equivalent_diameter': 100.73588820047821}], 60: [{'label': 1, 'area': 7880.0, 'centroid': (533.665228426396, 126.77855329949239), 'equivalent_diameter': 100.16550110947922}], 61: [{'label': 1, 'area': 7682.0, 'centroid': (534.3230929445457, 126.540744597761), 'equivalent_diameter': 98.89907068651111}], 62: [{'label': 1, 'area': 7789.0, 'centroid': (533.7897034279111, 126.83168571061753), 'equivalent_diameter': 99.58545483122614}], 63: [{'label': 1, 'area': 7771.0, 'centroid': (533.2738386308068, 127.3673915840947), 'equivalent_diameter': 99.47031970460812}], 64: [{'label': 1, 'area': 7699.0, 'centroid': (533.7541239121964, 126.36887907520457), 'equivalent_diameter': 99.00844032160096}], 65: [{'label': 1, 'area': 7558.0, 'centroid': (534.7871129928552, 126.7318073564435), 'equivalent_diameter': 98.09762728582358}], 66: [{'label': 1, 'area': 7621.0, 'centroid': (534.0581288544811, 126.73336832436688), 'equivalent_diameter': 98.50562710031684}], 67: [{'label': 1, 'area': 7762.0, 'centroid': (533.9989693377995, 127.14403504251482), 'equivalent_diameter': 99.41270213727385}], 68: [{'label': 1, 'area': 7618.0, 'centroid': (534.255710160147, 126.80821737988974), 'equivalent_diameter': 98.48623686481513}], 69: [{'label': 1, 'area': 7863.0, 'centroid': (533.6377972783924, 127.23655093475773), 'equivalent_diameter': 100.05739622962705}], 70: [{'label': 1, 'area': 7694.0, 'centroid': (534.8695087080843, 127.23420847413568), 'equivalent_diameter': 98.97628532730626}], 71: [{'label': 1, 'area': 7768.0, 'centroid': (534.6565396498455, 127.63426879505664), 'equivalent_diameter': 99.45111755783715}], 72: [{'label': 1, 'area': 7804.0, 'centroid': (533.6567145053818, 127.21694003075346), 'equivalent_diameter': 99.6812991845171}], 73: [{'label': 1, 'area': 7739.0, 'centroid': (533.9388809923763, 127.36865228065642), 'equivalent_diameter': 99.265305302031}], 74: [{'label': 1, 'area': 7655.0, 'centroid': (533.6928804702809, 127.21959503592423), 'equivalent_diameter': 98.72511694066344}], 75: [{'label': 1, 'area': 7675.0, 'centroid': (533.5557003257329, 127.43296416938111), 'equivalent_diameter': 98.85400096021594}], 76: [{'label': 1, 'area': 7753.0, 'centroid': (533.3900425641687, 127.53037533857861), 'equivalent_diameter': 99.3550511566056}], 77: [{'label': 1, 'area': 7668.0, 'centroid': (533.6240219092332, 127.47052686489306), 'equivalent_diameter': 98.80891067626051}], 78: [{'label': 1, 'area': 7600.0, 'centroid': (533.8607894736842, 127.32618421052632), 'equivalent_diameter': 98.3698151873187}], 79: [{'label': 1, 'area': 7698.0, 'centroid': (533.4749285528709, 127.20433878929592), 'equivalent_diameter': 99.00201015823508}], 80: [{'label': 1, 'area': 7822.0, 'centroid': (533.3384045001278, 127.22155458961902), 'equivalent_diameter': 99.79619090385386}], 81: [{'label': 1, 'area': 7622.0, 'centroid': (534.098399370244, 126.23471529782209), 'equivalent_diameter': 98.51208966401742}], 82: [{'label': 1, 'area': 7676.0, 'centroid': (533.6773058884836, 127.30106826472121), 'equivalent_diameter': 98.86044075052017}], 83: [{'label': 1, 'area': 7517.0, 'centroid': (533.562192363975, 127.1221231874418), 'equivalent_diameter': 97.83118959602923}], 84: [{'label': 1, 'area': 7753.0, 'centroid': (533.5600412743454, 126.57655101251129), 'equivalent_diameter': 99.3550511566056}], 85: [{'label': 1, 'area': 7532.0, 'centroid': (533.2061869357408, 126.67326075411577), 'equivalent_diameter': 97.9287508903552}], 86: [{'label': 1, 'area': 7496.0, 'centroid': (533.8085645677695, 126.95250800426895), 'equivalent_diameter': 97.69444010451556}], 87: [{'label': 1, 'area': 7579.0, 'centroid': (533.5041562211374, 127.11611030478954), 'equivalent_diameter': 98.23381550946598}], 88: [{'label': 1, 'area': 7461.0, 'centroid': (533.5298217397132, 127.16713577268463), 'equivalent_diameter': 97.46609791752745}], 89: [{'label': 1, 'area': 7548.0, 'centroid': (533.7502649708532, 126.68402225755167), 'equivalent_diameter': 98.03270925390673}], 90: [{'label': 1, 'area': 7374.0, 'centroid': (533.3513696772444, 126.62422023325196), 'equivalent_diameter': 96.89617331389867}], 91: [{'label': 1, 'area': 7364.0, 'centroid': (534.2015209125475, 127.01643128734383), 'equivalent_diameter': 96.83044979462679}], 92: [{'label': 1, 'area': 7634.0, 'centroid': (532.8646843070475, 127.0602567461357), 'equivalent_diameter': 98.58960738591179}], 93: [{'label': 1, 'area': 7687.0, 'centroid': (532.4856250813061, 126.54182385846234), 'equivalent_diameter': 98.93125077739185}], 94: [{'label': 1, 'area': 7645.0, 'centroid': (532.6222367560497, 127.24185742315238), 'equivalent_diameter': 98.66061179366525}], 95: [{'label': 1, 'area': 7717.0, 'centroid': (532.1539458338733, 127.23325126344434), 'equivalent_diameter': 99.1241119340862}], 96: [{'label': 1, 'area': 7723.0, 'centroid': (532.3641072122232, 127.26932539168716), 'equivalent_diameter': 99.16263915401638}], 97: [{'label': 1, 'area': 7714.0, 'centroid': (532.3946072076743, 126.96085040186674), 'equivalent_diameter': 99.10484270754404}], 98: [{'label': 1, 'area': 7689.0, 'centroid': (532.8586292105606, 127.18272857328651), 'equivalent_diameter': 98.94411988323847}], 99: [{'label': 1, 'area': 7614.0, 'centroid': (532.9356448647229, 126.62450748620961), 'equivalent_diameter': 98.46037727742835}], 100: [{'label': 1, 'area': 7562.0, 'centroid': (532.4564929912722, 126.39592700343825), 'equivalent_diameter': 98.12358247275371}], 101: [{'label': 1, 'area': 7708.0, 'centroid': (532.79177477945, 126.32732226258433), 'equivalent_diameter': 99.06629301038085}], 102: [{'label': 1, 'area': 7691.0, 'centroid': (532.5356910674815, 126.88532050448576), 'equivalent_diameter': 98.95698731549045}], 103: [{'label': 1, 'area': 7782.0, 'centroid': (532.54189154459, 127.01143664867644), 'equivalent_diameter': 99.54069588429165}], 104: [{'label': 1, 'area': 7702.0, 'centroid': (532.89067774604, 126.73175798493898), 'equivalent_diameter': 99.02772830652142}], 105: [{'label': 1, 'area': 7745.0, 'centroid': (533.0786313750807, 126.44196255648805), 'equivalent_diameter': 99.30377774271146}], 106: [{'label': 1, 'area': 7848.0, 'centroid': (532.9454638124363, 126.90711009174312), 'equivalent_diameter': 99.9619124821127}], 107: [{'label': 1, 'area': 7961.0, 'centroid': (532.4827283004647, 127.26466524305992), 'equivalent_diameter': 100.67899490775933}], 108: [{'label': 1, 'area': 7864.0, 'centroid': (532.2497456765005, 126.95333163784333), 'equivalent_diameter': 100.06375857320832}], 109: [{'label': 1, 'area': 8109.0, 'centroid': (532.567517573067, 127.07596497718585), 'equivalent_diameter': 101.61052833371862}], 110: [{'label': 1, 'area': 7924.0, 'centroid': (532.156865219586, 127.10663806158506), 'equivalent_diameter': 100.44476169756904}], 111: [{'label': 1, 'area': 7770.0, 'centroid': (533.3100386100386, 127.20875160875161), 'equivalent_diameter': 99.46391940091752}], 112: [{'label': 1, 'area': 7833.0, 'centroid': (532.3186518575259, 127.0864292097536), 'equivalent_diameter': 99.86633744115446}], 113: [{'label': 1, 'area': 8113.0, 'centroid': (532.0213238013065, 126.92086774312831), 'equivalent_diameter': 101.63558641753573}], 114: [{'label': 1, 'area': 8072.0, 'centroid': (532.2864222001982, 126.54497026759168), 'equivalent_diameter': 101.37844743880345}], 115: [{'label': 1, 'area': 7938.0, 'centroid': (532.031746031746, 126.80360292265054), 'equivalent_diameter': 100.53345466116103}], 116: [{'label': 1, 'area': 8103.0, 'centroid': (532.8259903739356, 127.05738615327657), 'equivalent_diameter': 101.57292961704424}], 117: [{'label': 1, 'area': 8077.0, 'centroid': (532.5978704964715, 127.20279806858983), 'equivalent_diameter': 101.40984075929667}], 118: [{'label': 1, 'area': 8006.0, 'centroid': (532.7614289283038, 127.63502373220085), 'equivalent_diameter': 100.96314077498636}], 119: [{'label': 1, 'area': 8155.0, 'centroid': (532.1216431637032, 127.79350091968118), 'equivalent_diameter': 101.898324261566}], 120: [{'label': 1, 'area': 8065.0, 'centroid': (532.8419094854308, 127.63744575325481), 'equivalent_diameter': 101.33448045107394}], 121: [{'label': 1, 'area': 7878.0, 'centroid': (533.1054836252856, 127.25476009139375), 'equivalent_diameter': 100.15278894480977}], 122: [{'label': 1, 'area': 8001.0, 'centroid': (533.1123609548806, 127.69941257342832), 'equivalent_diameter': 100.93160851500404}], 123: [{'label': 1, 'area': 7905.0, 'centroid': (533.0411132194813, 128.25528146742568), 'equivalent_diameter': 100.32426725937978}], 124: [{'label': 1, 'area': 8128.0, 'centroid': (532.5018454724409, 127.98855807086615), 'equivalent_diameter': 101.72949925959236}], 125: [{'label': 1, 'area': 8010.0, 'centroid': (532.2459425717852, 127.68377028714107), 'equivalent_diameter': 100.98835949419444}], 126: [{'label': 1, 'area': 8125.0, 'centroid': (532.2752, 127.23876923076924), 'equivalent_diameter': 101.71072362820549}], 127: [{'label': 1, 'area': 8039.0, 'centroid': (532.8677696230875, 127.59174026620227), 'equivalent_diameter': 101.1710072111866}], 128: [{'label': 1, 'area': 7792.0, 'centroid': (533.65772587269, 127.37615503080082), 'equivalent_diameter': 99.60463107996729}], 129: [{'label': 1, 'area': 8035.0, 'centroid': (532.890852520224, 127.30528935905414), 'equivalent_diameter': 101.14583403159536}], 130: [{'label': 1, 'area': 8045.0, 'centroid': (533.1123679303915, 126.98918582970789), 'equivalent_diameter': 101.20875524081099}], 131: [{'label': 1, 'area': 8123.0, 'centroid': (532.592761295088, 127.56912470762033), 'equivalent_diameter': 101.69820461484916}], 132: [{'label': 1, 'area': 8052.0, 'centroid': (533.5886736214605, 127.16418281172379), 'equivalent_diameter': 101.25277682220637}], 133: [{'label': 1, 'area': 8092.0, 'centroid': (533.621107266436, 126.74159663865547), 'equivalent_diameter': 101.50396246451139}], 134: [{'label': 1, 'area': 7941.0, 'centroid': (533.5957687948621, 126.98967384460396), 'equivalent_diameter': 100.552450118045}], 135: [{'label': 1, 'area': 7967.0, 'centroid': (533.8876616041169, 127.12288188778712), 'equivalent_diameter': 100.71692734046766}], 136: [{'label': 1, 'area': 8113.0, 'centroid': (532.883273758166, 127.49833600394429), 'equivalent_diameter': 101.63558641753573}], 137: [{'label': 1, 'area': 8073.0, 'centroid': (532.9774557165862, 127.16734794995665), 'equivalent_diameter': 101.38472688056603}], 138: [{'label': 1, 'area': 7931.0, 'centroid': (533.9556171983356, 127.25747068465515), 'equivalent_diameter': 100.48911796455661}], 139: [{'label': 1, 'area': 8015.0, 'centroid': (534.1109170305676, 127.04815970056144), 'equivalent_diameter': 101.01987403997458}], 140: [{'label': 1, 'area': 8234.0, 'centroid': (533.7573475831916, 126.31624969638086), 'equivalent_diameter': 102.39069494514298}], 141: [{'label': 1, 'area': 8056.0, 'centroid': (533.2778053624628, 127.37549652432969), 'equivalent_diameter': 101.27792342058792}], 142: [{'label': 1, 'area': 8050.0, 'centroid': (532.5216149068323, 127.01428571428572), 'equivalent_diameter': 101.24020118074667}], 143: [{'label': 1, 'area': 8146.0, 'centroid': (531.681561502578, 126.95114166462068), 'equivalent_diameter': 101.84208035685758}], 144: [{'label': 1, 'area': 8154.0, 'centroid': (532.7629384351238, 127.06303654648025), 'equivalent_diameter': 101.89207647197361}], 145: [{'label': 1, 'area': 8095.0, 'centroid': (533.0508956145769, 126.29400864731316), 'equivalent_diameter': 101.52277633433367}], 146: [{'label': 1, 'area': 7959.0, 'centroid': (534.0006282196256, 126.42379695941702), 'equivalent_diameter': 100.66634758720096}], 147: [{'label': 1, 'area': 7889.0, 'centroid': (534.0210419571555, 127.01166180758017), 'equivalent_diameter': 100.22268589703481}], 148: [{'label': 1, 'area': 7953.0, 'centroid': (533.7607192254495, 127.07858669684396), 'equivalent_diameter': 100.62839608817558}], 149: [{'label': 1, 'area': 8044.0, 'centroid': (533.7587021382396, 127.16534062655396), 'equivalent_diameter': 101.2024648803064}], 150: [{'label': 1, 'area': 8096.0, 'centroid': (533.6466156126482, 126.45899209486166), 'equivalent_diameter': 101.52904684953896}], 151: [{'label': 1, 'area': 8168.0, 'centroid': (533.9272771792361, 127.5666013712047), 'equivalent_diameter': 101.97951069404485}], 152: [{'label': 1, 'area': 8130.0, 'centroid': (534.0552275522755, 127.82829028290283), 'equivalent_diameter': 101.74201442224776}], 153: [{'label': 1, 'area': 8206.0, 'centroid': (533.3922739458933, 127.75798196441627), 'equivalent_diameter': 102.21645515325184}], 154: [{'label': 1, 'area': 8111.0, 'centroid': (533.975958574775, 127.06706941190976), 'equivalent_diameter': 101.62305814797597}], 155: [{'label': 1, 'area': 8112.0, 'centroid': (533.2784763313609, 126.75024654832347), 'equivalent_diameter': 101.62932247580736}], 156: [{'label': 1, 'area': 8295.0, 'centroid': (533.0204942736589, 126.84749849306812), 'equivalent_diameter': 102.76926594842533}], 157: [{'label': 1, 'area': 8203.0, 'centroid': (533.5330976472022, 126.6190418139705), 'equivalent_diameter': 102.19776898476081}], 158: [{'label': 1, 'area': 8257.0, 'centroid': (533.3840377861209, 127.2344677243551), 'equivalent_diameter': 102.53359898529963}], 159: [{'label': 1, 'area': 8115.0, 'centroid': (533.9569932224276, 127.42279728897104), 'equivalent_diameter': 101.64811314296908}], 160: [{'label': 1, 'area': 8172.0, 'centroid': (532.9466470876163, 126.79148311306902), 'equivalent_diameter': 102.00447813491205}], 161: [{'label': 1, 'area': 8084.0, 'centroid': (532.4392627412172, 126.94606630381), 'equivalent_diameter': 101.4537750881605}], 162: [{'label': 1, 'area': 8087.0, 'centroid': (532.3313960677631, 126.82997403239767), 'equivalent_diameter': 101.47259826314324}], 163: [{'label': 1, 'area': 8089.0, 'centroid': (533.0173074545679, 126.32983063419458), 'equivalent_diameter': 101.48514510687133}], 164: [{'label': 1, 'area': 8124.0, 'centroid': (532.6560807483999, 126.3000984736583), 'equivalent_diameter': 101.70446431415124}], 165: [{'label': 1, 'area': 8160.0, 'centroid': (532.6319852941176, 126.35526960784314), 'equivalent_diameter': 101.92955746513829}], 166: [{'label': 1, 'area': 8298.0, 'centroid': (532.2429501084599, 125.86165341046035), 'equivalent_diameter': 102.78784822250333}], 167: [{'label': 1, 'area': 8127.0, 'centroid': (533.063492063492, 126.04700381444567), 'equivalent_diameter': 101.72324110085496}], 168: [{'label': 1, 'area': 8253.0, 'centroid': (532.9583181873259, 126.10020598570217), 'equivalent_diameter': 102.50876041928952}], 169: [{'label': 1, 'area': 8134.0, 'centroid': (533.0427833784116, 126.88603393164495), 'equivalent_diameter': 101.76704013026915}], 170: [{'label': 1, 'area': 8106.0, 'centroid': (532.8501110288676, 127.16000493461634), 'equivalent_diameter': 101.59173071477437}], 171: [{'label': 1, 'area': 8100.0, 'centroid': (532.284074074074, 126.65345679012346), 'equivalent_diameter': 101.55412503859613}], 172: [{'label': 1, 'area': 8206.0, 'centroid': (532.1062637094809, 126.24859858640019), 'equivalent_diameter': 102.21645515325184}], 173: [{'label': 1, 'area': 7999.0, 'centroid': (533.1976497062133, 126.60257532191524), 'equivalent_diameter': 100.91899285236931}], 174: [{'label': 1, 'area': 8710.0, 'centroid': (313.29942594718716, 132.34247990815155), 'equivalent_diameter': 105.3086721720641}, {'label': 2, 'area': 8127.0, 'centroid': (533.6622369878183, 127.10803494524424), 'equivalent_diameter': 101.72324110085496}], 175: [{'label': 1, 'area': 8529.0, 'centroid': (313.5476609215617, 132.96224645327706), 'equivalent_diameter': 104.20873320910395}, {'label': 2, 'area': 7979.0, 'centroid': (533.6063416468229, 126.59769394660985), 'equivalent_diameter': 100.79274937931727}], 176: [{'label': 1, 'area': 8679.0, 'centroid': (312.6140108307409, 132.4975227560779), 'equivalent_diameter': 105.12110163405099}, {'label': 2, 'area': 7966.0, 'centroid': (533.1673361787597, 127.13695706753703), 'equivalent_diameter': 100.71060626051413}], 177: [{'label': 1, 'area': 8980.0, 'centroid': (311.32104677060136, 132.37271714922048), 'equivalent_diameter': 106.9284392092289}, {'label': 2, 'area': 8111.0, 'centroid': (533.0282332634694, 127.7579829860683), 'equivalent_diameter': 101.62305814797597}], 178: [{'label': 1, 'area': 9050.0, 'centroid': (311.0779005524862, 131.57546961325966), 'equivalent_diameter': 107.34438914006276}, {'label': 2, 'area': 8226.0, 'centroid': (532.089593970338, 127.14770240700219), 'equivalent_diameter': 102.34094241793676}], 179: [{'label': 1, 'area': 9122.0, 'centroid': (310.84137250602936, 131.3957465468099), 'equivalent_diameter': 107.77054851430493}, {'label': 2, 'area': 8246.0, 'centroid': (532.2539413048751, 127.23938879456706), 'equivalent_diameter': 102.46527844048515}], 180: [{'label': 1, 'area': 8839.0, 'centroid': (311.9835954293472, 132.84330806652335), 'equivalent_diameter': 106.08564622942212}, {'label': 2, 'area': 8372.0, 'centroid': (531.7759197324415, 126.54180602006689), 'equivalent_diameter': 103.24515227613732}], 181: [{'label': 1, 'area': 8663.0, 'centroid': (312.7767517026434, 132.9927276924853), 'equivalent_diameter': 105.02415996350894}, {'label': 2, 'area': 8225.0, 'centroid': (532.1375075987842, 127.05665653495441), 'equivalent_diameter': 102.33472165128859}], 182: [{'label': 1, 'area': 8775.0, 'centroid': (311.9145299145299, 132.71612535612536), 'equivalent_diameter': 105.70088459918892}, {'label': 2, 'area': 8096.0, 'centroid': (533.1242588932806, 127.28199110671937), 'equivalent_diameter': 101.52904684953896}], 183: [{'label': 1, 'area': 8254.0, 'centroid': (532.2851950569421, 127.24545674824327), 'equivalent_diameter': 102.51497062499718}], 184: [{'label': 1, 'area': 8379.0, 'centroid': (531.8875760830648, 126.79138321995465), 'equivalent_diameter': 103.28830594668464}], 185: [{'label': 1, 'area': 8450.0, 'centroid': (531.7773964497042, 126.6308875739645), 'equivalent_diameter': 103.7249929043725}], 186: [{'label': 1, 'area': 8448.0, 'centroid': (532.0613162878788, 126.88068181818181), 'equivalent_diameter': 103.71271703085719}], 187: [{'label': 1, 'area': 8288.0, 'centroid': (532.7508445945946, 126.45149613899613), 'equivalent_diameter': 102.72589423687208}], 188: [{'label': 1, 'area': 8212.0, 'centroid': (532.4869702873843, 127.34254749147588), 'equivalent_diameter': 102.2538172459354}], 189: [{'label': 1, 'area': 8002.0, 'centroid': (533.1343414146463, 127.45663584103974), 'equivalent_diameter': 100.93791575503613}], 190: [{'label': 1, 'area': 8028.0, 'centroid': (533.8479073243648, 127.15570503238665), 'equivalent_diameter': 101.10176588533895}], 191: [{'label': 1, 'area': 8033.0, 'centroid': (532.757375824723, 127.34333374828832), 'equivalent_diameter': 101.13324509209404}], 192: [{'label': 1, 'area': 8241.0, 'centroid': (532.4412085911904, 127.80330057031914), 'equivalent_diameter': 102.43420858366835}], 193: [{'label': 1, 'area': 8083.0, 'centroid': (532.4191513052085, 127.62353086725226), 'equivalent_diameter': 101.44749992037418}], 194: [{'label': 1, 'area': 8102.0, 'centroid': (532.3238706492224, 127.78091829177981), 'equivalent_diameter': 101.56666181107012}], 195: [{'label': 1, 'area': 8025.0, 'centroid': (532.6079750778816, 127.66118380062305), 'equivalent_diameter': 101.08287365572706}], 196: [{'label': 1, 'area': 8095.0, 'centroid': (532.481408276714, 127.30389129092032), 'equivalent_diameter': 101.52277633433367}], 197: [{'label': 1, 'area': 8019.0, 'centroid': (532.4677640603567, 127.92168599576007), 'equivalent_diameter': 101.04507859975799}], 198: [{'label': 1, 'area': 8160.0, 'centroid': (532.2100490196078, 127.01789215686274), 'equivalent_diameter': 101.92955746513829}], 199: [{'label': 1, 'area': 8113.0, 'centroid': (532.3023542462714, 127.60002465179342), 'equivalent_diameter': 101.63558641753573}], 200: [{'label': 1, 'area': 7993.0, 'centroid': (533.0261478793944, 127.01213561866633), 'equivalent_diameter': 100.8811363985763}], 201: [{'label': 1, 'area': 7940.0, 'centroid': (533.237531486146, 127.22292191435768), 'equivalent_diameter': 100.54611869782539}], 202: [{'label': 1, 'area': 8060.0, 'centroid': (532.7018610421836, 127.66116625310174), 'equivalent_diameter': 101.30306377679509}], 203: [{'label': 1, 'area': 8114.0, 'centroid': (532.7257825979788, 127.94873058910525), 'equivalent_diameter': 101.64184997323254}], 204: [{'label': 1, 'area': 8102.0, 'centroid': (532.3115280177734, 127.34855591212046), 'equivalent_diameter': 101.56666181107012}], 205: [{'label': 1, 'area': 8195.0, 'centroid': (531.946552776083, 127.39499694935937), 'equivalent_diameter': 102.14792249039948}], 206: [{'label': 1, 'area': 8043.0, 'centroid': (533.1094119109785, 127.36230262339923), 'equivalent_diameter': 101.1961741287926}], 207: [{'label': 1, 'area': 8106.0, 'centroid': (532.7401924500371, 127.97717739945719), 'equivalent_diameter': 101.59173071477437}], 208: [{'label': 1, 'area': 7831.0, 'centroid': (533.7811262929383, 127.94355765547185), 'equivalent_diameter': 99.85358719055145}], 209: [{'label': 1, 'area': 8106.0, 'centroid': (532.3000246730817, 127.62250185048113), 'equivalent_diameter': 101.59173071477437}], 210: [{'label': 1, 'area': 8140.0, 'centroid': (532.446683046683, 127.4517199017199), 'equivalent_diameter': 101.80456715758986}], 211: [{'label': 1, 'area': 7926.0, 'centroid': (533.3522583901085, 127.37080494574818), 'equivalent_diameter': 100.45743691519758}], 212: [{'label': 1, 'area': 7937.0, 'centroid': (532.3949855108983, 128.40519087816554), 'equivalent_diameter': 100.5271220445656}], 213: [{'label': 1, 'area': 7946.0, 'centroid': (531.9842688144979, 127.57009816259753), 'equivalent_diameter': 100.58410124102915}], 214: [{'label': 1, 'area': 8043.0, 'centroid': (532.1947034688549, 127.32748974263335), 'equivalent_diameter': 101.1961741287926}], 215: [{'label': 1, 'area': 7844.0, 'centroid': (533.2338092809791, 127.46800101988781), 'equivalent_diameter': 99.93643474180283}], 216: [{'label': 1, 'area': 8003.0, 'centroid': (532.0527302261652, 127.22816443833563), 'equivalent_diameter': 100.94422260097656}], 217: [{'label': 1, 'area': 7958.0, 'centroid': (532.8269665745162, 127.2941693892938), 'equivalent_diameter': 100.66002333102465}], 218: [{'label': 1, 'area': 7980.0, 'centroid': (532.1541353383459, 127.82907268170426), 'equivalent_diameter': 100.79906530809994}], 219: [{'label': 1, 'area': 7901.0, 'centroid': (532.8972281989621, 127.80065814453867), 'equivalent_diameter': 100.29888156381665}], 220: [{'label': 1, 'area': 8227.0, 'centroid': (531.6617235930473, 127.35772456545521), 'equivalent_diameter': 102.3471628064803}], 221: [{'label': 1, 'area': 8233.0, 'centroid': (531.8660269646545, 127.47734726102271), 'equivalent_diameter': 102.38447720140293}], 222: [{'label': 1, 'area': 8076.0, 'centroid': (532.5429668152551, 128.21718672610203), 'equivalent_diameter': 101.40356287271752}], 223: [{'label': 1, 'area': 8058.0, 'centroid': (532.5743360635394, 127.70017374038223), 'equivalent_diameter': 101.29049437867278}], 224: [{'label': 1, 'area': 8196.0, 'centroid': (531.8772571986335, 127.44704734016594), 'equivalent_diameter': 102.15415463234666}], 225: [{'label': 1, 'area': 8160.0, 'centroid': (533.1968137254902, 127.1140931372549), 'equivalent_diameter': 101.92955746513829}], 226: [{'label': 1, 'area': 8141.0, 'centroid': (533.0622773615034, 128.4157965851861), 'equivalent_diameter': 101.81082031733641}], 227: [{'label': 1, 'area': 8144.0, 'centroid': (532.9706532416503, 128.09123280943027), 'equivalent_diameter': 101.82957749260852}], 228: [{'label': 1, 'area': 8126.0, 'centroid': (532.3314053654934, 127.91459512675362), 'equivalent_diameter': 101.71698255708303}], 229: [{'label': 1, 'area': 8163.0, 'centroid': (532.1516599289477, 127.95577606272204), 'equivalent_diameter': 101.94829279430398}], 230: [{'label': 1, 'area': 8145.0, 'centroid': (532.7393492940454, 126.89073050951504), 'equivalent_diameter': 101.83582911661249}], 231: [{'label': 1, 'area': 8232.0, 'centroid': (532.4290573372206, 127.2127065111759), 'equivalent_diameter': 102.37825908004034}], 232: [{'label': 1, 'area': 8148.0, 'centroid': (532.5813696612665, 127.66310751104565), 'equivalent_diameter': 101.85458168635374}], 233: [{'label': 1, 'area': 8305.0, 'centroid': (532.3920529801325, 127.18434677904877), 'equivalent_diameter': 102.83119380336653}], 234: [{'label': 1, 'area': 8298.0, 'centroid': (532.2547601831767, 127.29272113762353), 'equivalent_diameter': 102.78784822250333}], 235: [{'label': 1, 'area': 8478.0, 'centroid': (532.0498938428875, 127.0485963670677), 'equivalent_diameter': 103.89670283634948}], 236: [{'label': 1, 'area': 8494.0, 'centroid': (532.2081469272428, 127.0614551448081), 'equivalent_diameter': 103.9946955040519}], 237: [{'label': 1, 'area': 8260.0, 'centroid': (533.2686440677966, 127.11452784503632), 'equivalent_diameter': 102.55222396180613}], 238: [{'label': 1, 'area': 8189.0, 'centroid': (533.2332397118086, 127.50335816338992), 'equivalent_diameter': 102.11052165098486}], 239: [{'label': 1, 'area': 8318.0, 'centroid': (533.3613849483049, 127.28456359701852), 'equivalent_diameter': 102.91164430280513}], 240: [{'label': 1, 'area': 8348.0, 'centroid': (532.692980354576, 127.01449448969814), 'equivalent_diameter': 103.09705970321917}], 241: [{'label': 1, 'area': 8320.0, 'centroid': (533.1450721153847, 126.67860576923077), 'equivalent_diameter': 102.92401572129098}], 242: [{'label': 1, 'area': 8508.0, 'centroid': (533.8938645980254, 126.6163610719323), 'equivalent_diameter': 104.08036340543188}], 243: [{'label': 1, 'area': 8552.0, 'centroid': (533.7745556594948, 126.61108512628626), 'equivalent_diameter': 104.3491475124503}], 244: [{'label': 1, 'area': 8562.0, 'centroid': (533.7053258584443, 126.31534688156972), 'equivalent_diameter': 104.41013831052261}], 245: [{'label': 1, 'area': 8491.0, 'centroid': (533.2407254740314, 126.7116947356024), 'equivalent_diameter': 103.97632891358622}], 246: [{'label': 1, 'area': 8485.0, 'centroid': (533.2472598703595, 126.99528579846789), 'equivalent_diameter': 103.9395859962789}], 247: [{'label': 1, 'area': 8493.0, 'centroid': (533.0860708819027, 126.4382432591546), 'equivalent_diameter': 103.98857366766667}], 248: [{'label': 1, 'area': 8550.0, 'centroid': (532.5912280701755, 126.87438596491228), 'equivalent_diameter': 104.33694507453072}], 249: [{'label': 1, 'area': 8683.0, 'centroid': (532.6015202119083, 126.31636531152827), 'equivalent_diameter': 105.14532308636184}], 250: [{'label': 1, 'area': 8654.0, 'centroid': (532.7914259302057, 126.97816038825977), 'equivalent_diameter': 104.96959093060285}], 251: [{'label': 1, 'area': 8617.0, 'centroid': (532.7977254264825, 126.39758616687942), 'equivalent_diameter': 104.74495289503403}], 252: [{'label': 1, 'area': 8472.0, 'centroid': (532.7509442870632, 127.1966477809254), 'equivalent_diameter': 103.85993174943019}], 253: [{'label': 1, 'area': 8518.0, 'centroid': (532.5718478516084, 126.94177036863114), 'equivalent_diameter': 104.14151161786599}], 254: [{'label': 1, 'area': 8646.0, 'centroid': (532.7249595188526, 126.91198241961601), 'equivalent_diameter': 104.9210612974355}], 255: [{'label': 1, 'area': 8430.0, 'centroid': (533.2690391459075, 127.69454329774615), 'equivalent_diameter': 103.60216871338854}], 256: [{'label': 1, 'area': 8417.0, 'centroid': (532.8384222407034, 126.87038137103481), 'equivalent_diameter': 103.52225484424045}], 257: [], 258: [], 259: [], 260: [], 261: [], 262: [], 263: [], 264: [], 265: [], 266: [], 267: [], 268: [], 269: [], 270: [], 271: [], 272: [], 273: [], 274: []}, 'trap_2_all_frames_series': {0: [], 1: [], 2: [], 3: [], 4: [], 5: [], 6: [], 7: [], 8: [], 9: [], 10: [], 11: [], 12: [], 13: [], 14: [], 15: [], 16: [], 17: [], 18: [], 19: [], 20: [], 21: [], 22: [], 23: [], 24: [], 25: [], 26: [], 27: [], 28: [], 29: [], 30: [], 31: [], 32: [], 33: [], 34: [], 35: [], 36: [], 37: [], 38: [], 39: [], 40: [], 41: [], 42: [], 43: [], 44: [], 45: [], 46: [], 47: [], 48: [], 49: [], 50: [], 51: [], 52: [], 53: [], 54: [], 55: [], 56: [], 57: [], 58: [], 59: [], 60: [], 61: [], 62: [], 63: [], 64: [], 65: [], 66: [], 67: [], 68: [], 69: [], 70: [], 71: [], 72: [], 73: [], 74: [], 75: [], 76: [], 77: [], 78: [], 79: [], 80: [], 81: [], 82: [], 83: [], 84: [], 85: [], 86: [], 87: [], 88: [], 89: [], 90: [], 91: [], 92: [], 93: [], 94: [], 95: [], 96: [], 97: [], 98: [], 99: [], 100: [], 101: [], 102: [], 103: [], 104: [], 105: [], 106: [], 107: [], 108: [], 109: [], 110: [], 111: [], 112: [], 113: [], 114: [], 115: [], 116: [], 117: [], 118: [], 119: [], 120: [], 121: [], 122: [], 123: [], 124: [], 125: [], 126: [], 127: [], 128: [], 129: [], 130: [], 131: [], 132: [], 133: [], 134: [], 135: [], 136: [], 137: [], 138: [], 139: [], 140: [], 141: [], 142: [], 143: [], 144: [], 145: [], 146: [], 147: [], 148: [], 149: [], 150: [], 151: [], 152: [], 153: [], 154: [], 155: [], 156: [], 157: [], 158: [], 159: [], 160: [], 161: [], 162: [], 163: [], 164: [{'label': 1, 'area': 8463.0, 'centroid': (299.682618456812, 142.00933475127025), 'equivalent_diameter': 103.80475069616844}], 165: [{'label': 1, 'area': 8549.0, 'centroid': (299.5875540998947, 142.14539712247046), 'equivalent_diameter': 104.33084332037629}], 166: [{'label': 1, 'area': 8534.0, 'centroid': (299.94234825404266, 142.23892664635576), 'equivalent_diameter': 104.23927414736673}], 167: [{'label': 1, 'area': 8531.0, 'centroid': (299.9098581643418, 141.83530652912907), 'equivalent_diameter': 104.22095065837614}], 168: [{'label': 1, 'area': 8581.0, 'centroid': (299.9098007225265, 141.71413588159888), 'equivalent_diameter': 104.52592278173118}], 169: [{'label': 1, 'area': 8629.0, 'centroid': (299.85340132112646, 142.0631591146135), 'equivalent_diameter': 104.8178612237424}], 170: [{'label': 1, 'area': 8617.0, 'centroid': (300.0505976557967, 142.20123012649415), 'equivalent_diameter': 104.74495289503403}], 171: [{'label': 1, 'area': 8726.0, 'centroid': (299.5836580334632, 142.23928489571395), 'equivalent_diameter': 105.40535217605903}], 172: [{'label': 1, 'area': 8688.0, 'centroid': (299.91263812154693, 142.1253453038674), 'equivalent_diameter': 105.17559205756388}], 173: [{'label': 1, 'area': 8659.0, 'centroid': (300.06120799168497, 142.65215382838664), 'equivalent_diameter': 104.99991056120845}], 174: [{'label': 1, 'area': 8636.0, 'centroid': (299.9440713293191, 142.66801760074108), 'equivalent_diameter': 104.86036767212322}], 175: [{'label': 1, 'area': 8629.0, 'centroid': (299.97647467841, 142.78108703210106), 'equivalent_diameter': 104.8178612237424}], 176: [{'label': 1, 'area': 8526.0, 'centroid': (299.80096176401594, 142.82676518883414), 'equivalent_diameter': 104.19040434901862}], 177: [{'label': 1, 'area': 8581.0, 'centroid': (299.74408577088917, 142.89954550751662), 'equivalent_diameter': 104.52592278173118}], 178: [{'label': 1, 'area': 8484.0, 'centroid': (299.95674210278173, 142.60655351249412), 'equivalent_diameter': 103.93346091386124}], 179: [{'label': 1, 'area': 8657.0, 'centroid': (300.05429132493936, 142.80016171884026), 'equivalent_diameter': 104.98778375969418}], 180: [{'label': 1, 'area': 8680.0, 'centroid': (299.68548387096774, 142.57361751152072), 'equivalent_diameter': 105.12715752031544}], 181: [{'label': 1, 'area': 8580.0, 'centroid': (299.6254079254079, 142.288344988345), 'equivalent_diameter': 104.51983205989042}], 182: [{'label': 1, 'area': 8604.0, 'centroid': (299.7652254765226, 142.63133426313343), 'equivalent_diameter': 104.66591156102993}], 183: [{'label': 1, 'area': 8724.0, 'centroid': (299.4136863823934, 142.45953690967445), 'equivalent_diameter': 105.3932720256353}], 184: [{'label': 1, 'area': 8744.0, 'centroid': (299.8934126258005, 142.27344464775845), 'equivalent_diameter': 105.51401129311814}], 185: [{'label': 1, 'area': 8518.0, 'centroid': (299.0368631134069, 141.70885184315566), 'equivalent_diameter': 104.14151161786599}], 186: [{'label': 1, 'area': 8257.0, 'centroid': (297.73767712244154, 142.24185539542208), 'equivalent_diameter': 102.53359898529963}], 187: [{'label': 1, 'area': 7963.0, 'centroid': (297.45058395077234, 142.7664196910712), 'equivalent_diameter': 100.69164063975768}], 188: [{'label': 1, 'area': 8435.0, 'centroid': (299.87978660343805, 142.77237700059277), 'equivalent_diameter': 103.63288840827076}], 189: [{'label': 1, 'area': 8639.0, 'centroid': (300.04375506424356, 142.2163444843153), 'equivalent_diameter': 104.87857944769786}], 190: [{'label': 1, 'area': 8450.0, 'centroid': (299.3932544378698, 142.1424852071006), 'equivalent_diameter': 103.7249929043725}], 191: [{'label': 1, 'area': 8296.0, 'centroid': (298.79857762777243, 141.95009643201544), 'equivalent_diameter': 102.77546041309137}], 192: [{'label': 1, 'area': 8556.0, 'centroid': (299.7414679756896, 141.95126227208976), 'equivalent_diameter': 104.37354810848414}], 193: [{'label': 1, 'area': 8580.0, 'centroid': (299.7114219114219, 142.21888111888111), 'equivalent_diameter': 104.51983205989042}], 194: [{'label': 1, 'area': 8535.0, 'centroid': (299.5393087287639, 142.19144698301113), 'equivalent_diameter': 104.24538126130392}], 195: [], 196: [], 197: [], 198: [], 199: [], 200: [], 201: [], 202: [], 203: [], 204: [], 205: [], 206: [], 207: [], 208: [], 209: [], 210: [], 211: [], 212: [], 213: [], 214: [], 215: [], 216: [], 217: [], 218: [], 219: [], 220: [], 221: [], 222: [], 223: [], 224: [], 225: [], 226: [], 227: [], 228: [], 229: [], 230: [], 231: [], 232: [], 233: [], 234: [], 235: [], 236: [], 237: [], 238: [], 239: [], 240: [], 241: [], 242: [], 243: [], 244: [], 245: [], 246: [], 247: [], 248: [], 249: [], 250: [], 251: [], 252: [], 253: [], 254: [], 255: [], 256: [], 257: [], 258: [], 259: [], 260: [], 261: [], 262: [], 263: [], 264: [], 265: [], 266: [], 267: [], 268: [], 269: [], 270: [], 271: [], 272: [], 273: [], 274: []}, 'trap_3_all_frames_series': {0: [], 1: [], 2: [], 3: [], 4: [], 5: [], 6: [{'label': 1, 'area': 7849.0, 'centroid': (837.7263345649127, 136.08128424003058), 'equivalent_diameter': 99.96828090262578}], 7: [{'label': 1, 'area': 7870.0, 'centroid': (838.5330368487929, 135.946124523507), 'equivalent_diameter': 100.10192414267435}], 8: [{'label': 1, 'area': 7809.0, 'centroid': (839.6524522986298, 135.86054552439492), 'equivalent_diameter': 99.71322682992907}], 9: [{'label': 1, 'area': 7705.0, 'centroid': (841.1418559377028, 135.69266709928618), 'equivalent_diameter': 99.04701253538356}], 10: [{'label': 1, 'area': 7728.0, 'centroid': (841.9641563146998, 135.3884575569358), 'equivalent_diameter': 99.19473373981775}], 11: [{'label': 1, 'area': 7736.0, 'centroid': (841.98474663909, 135.35302481902792), 'equivalent_diameter': 99.24606348904334}], 12: [{'label': 1, 'area': 7802.0, 'centroid': (842.9492437836452, 134.9744937195591), 'equivalent_diameter': 99.66852526261106}], 13: [{'label': 1, 'area': 7691.0, 'centroid': (843.2034845923807, 135.07359251072683), 'equivalent_diameter': 98.95698731549045}], 14: [{'label': 1, 'area': 7718.0, 'centroid': (844.0336874838041, 135.5763151075408), 'equivalent_diameter': 99.13053417724524}], 15: [{'label': 1, 'area': 7755.0, 'centroid': (844.0784010315925, 135.68820116054158), 'equivalent_diameter': 99.36786537619285}], 16: [{'label': 1, 'area': 7723.0, 'centroid': (845.0257671889162, 135.79761750615046), 'equivalent_diameter': 99.16263915401638}], 17: [{'label': 1, 'area': 7842.0, 'centroid': (845.4758990053558, 134.88587095128793), 'equivalent_diameter': 99.92369343560688}], 18: [{'label': 1, 'area': 7871.0, 'centroid': (846.0428153982975, 134.53995680345574), 'equivalent_diameter': 100.10828365630121}], 19: [{'label': 1, 'area': 7765.0, 'centroid': (846.218802318094, 134.37411461687057), 'equivalent_diameter': 99.43191170277548}], 20: [{'label': 1, 'area': 7791.0, 'centroid': (846.3973815941471, 134.3231934283147), 'equivalent_diameter': 99.59823940728899}], 21: [{'label': 1, 'area': 7794.0, 'centroid': (847.0192455735181, 134.08403900436232), 'equivalent_diameter': 99.61741319501255}, {'label': 2, 'area': 7305.0, 'centroid': (1941.0887063655032, 118.83983572895278), 'equivalent_diameter': 96.44176934446176}], 22: [{'label': 1, 'area': 7705.0, 'centroid': (847.5232965606749, 133.85113562621675), 'equivalent_diameter': 99.04701253538356}], 23: [{'label': 1, 'area': 7783.0, 'centroid': (847.9062058332263, 132.9939611974817), 'equivalent_diameter': 99.54709125169741}], 24: [{'label': 1, 'area': 7603.0, 'centroid': (848.1273181638827, 133.39931605945023), 'equivalent_diameter': 98.38922836683618}], 25: [{'label': 1, 'area': 7666.0, 'centroid': (848.329898252022, 133.16918862509783), 'equivalent_diameter': 98.79602395815206}], 26: [{'label': 1, 'area': 7613.0, 'centroid': (848.758702219887, 133.5992381452778), 'equivalent_diameter': 98.45391131930104}], 27: [{'label': 1, 'area': 7795.0, 'centroid': (848.991148171905, 132.51379089159718), 'equivalent_diameter': 99.62380363753732}], 28: [{'label': 1, 'area': 7745.0, 'centroid': (848.9869593285991, 132.89025177533892), 'equivalent_diameter': 99.30377774271146}, {'label': 2, 'area': 5720.0, 'centroid': (1989.0482517482517, 122.06346153846154), 'equivalent_diameter': 85.34008551604065}], 29: [{'label': 1, 'area': 7731.0, 'centroid': (848.8954857068943, 132.50472125210192), 'equivalent_diameter': 99.2139855078282}, {'label': 2, 'area': 7578.0, 'centroid': (1981.2847717075745, 117.9162048033782), 'equivalent_diameter': 98.2273346375797}], 30: [{'label': 1, 'area': 7696.0, 'centroid': (849.5510654885655, 132.49194386694387), 'equivalent_diameter': 98.98914857842658}], 31: [{'label': 1, 'area': 7570.0, 'centroid': (850.1392338177014, 132.54108322324967), 'equivalent_diameter': 98.17547226087166}, {'label': 2, 'area': 6949.0, 'centroid': (1985.60555475608, 119.62138437185206), 'equivalent_diameter': 94.06243456537071}], 32: [{'label': 1, 'area': 7522.0, 'centroid': (850.2729327306567, 131.9182398298325), 'equivalent_diameter': 97.86372083411653}], 33: [{'label': 1, 'area': 7550.0, 'centroid': (850.6426490066225, 131.798940397351), 'equivalent_diameter': 98.04569629897316}], 34: [{'label': 1, 'area': 7524.0, 'centroid': (850.6520467836257, 132.5530303030303), 'equivalent_diameter': 97.87673030188209}], 35: [{'label': 1, 'area': 7757.0, 'centroid': (850.7533840402217, 132.05362898027587), 'equivalent_diameter': 99.38067794350498}], 36: [{'label': 1, 'area': 7657.0, 'centroid': (850.7280919420139, 131.82264594488703), 'equivalent_diameter': 98.73801291314881}], 37: [{'label': 1, 'area': 7468.0, 'centroid': (850.1317621853241, 132.1945634708088), 'equivalent_diameter': 97.51180913141852}], 38: [{'label': 1, 'area': 7595.0, 'centroid': (850.7394338380514, 132.4090849242923), 'equivalent_diameter': 98.33745137160898}], 39: [{'label': 1, 'area': 7546.0, 'centroid': (851.2670288894778, 132.1342433077127), 'equivalent_diameter': 98.01972048813207}], 40: [{'label': 1, 'area': 7488.0, 'centroid': (851.0629006410256, 131.70486111111111), 'equivalent_diameter': 97.64229468307727}], 41: [{'label': 1, 'area': 7426.0, 'centroid': (851.0410719095071, 131.9189334769728), 'equivalent_diameter': 97.23721951600281}], 42: [{'label': 1, 'area': 7450.0, 'centroid': (851.2302013422819, 131.86791946308725), 'equivalent_diameter': 97.39422266375436}], 43: [{'label': 1, 'area': 7567.0, 'centroid': (851.6049953746531, 131.59191225056165), 'equivalent_diameter': 98.1560168049365}], 44: [{'label': 1, 'area': 7515.0, 'centroid': (851.1740518962076, 131.71696606786426), 'equivalent_diameter': 97.81817407151264}], 45: [{'label': 1, 'area': 7544.0, 'centroid': (851.4631495227995, 131.59756097560975), 'equivalent_diameter': 98.00673000096508}], 46: [{'label': 1, 'area': 7543.0, 'centroid': (852.0080869680498, 131.50470635025852), 'equivalent_diameter': 98.00023411164553}], 47: [{'label': 1, 'area': 7362.0, 'centroid': (852.2677261613692, 131.15933170334148), 'equivalent_diameter': 96.81729973687692}, {'label': 2, 'area': 6942.0, 'centroid': (1986.924949582253, 116.11307980409104), 'equivalent_diameter': 94.01504624022422}], 48: [{'label': 1, 'area': 7397.0, 'centroid': (852.4063809652562, 131.5398134378802), 'equivalent_diameter': 97.0471684924707}], 49: [{'label': 1, 'area': 7390.0, 'centroid': (852.7707713125845, 131.8404600811908), 'equivalent_diameter': 97.0012383198939}, {'label': 2, 'area': 7232.0, 'centroid': (1986.4171736725664, 116.20105088495575), 'equivalent_diameter': 95.958680626219}], 50: [{'label': 1, 'area': 7462.0, 'centroid': (852.6408469579201, 131.81613508442777), 'equivalent_diameter': 97.47262940340629}], 51: [{'label': 1, 'area': 7386.0, 'centroid': (852.9037367993501, 131.5790685079881), 'equivalent_diameter': 96.9749827399516}, {'label': 2, 'area': 7953.0, 'centroid': (1980.2631711303911, 116.13491764114171), 'equivalent_diameter': 100.62839608817558}], 52: [{'label': 1, 'area': 7458.0, 'centroid': (853.1149101635827, 131.5430410297667), 'equivalent_diameter': 97.44650083319998}, {'label': 2, 'area': 7739.0, 'centroid': (1985.7710298488178, 114.7670241633286), 'equivalent_diameter': 99.265305302031}], 53: [{'label': 1, 'area': 7405.0, 'centroid': (853.2768399729912, 131.72802160702227), 'equivalent_diameter': 97.09963351508533}], 54: [{'label': 1, 'area': 7279.0, 'centroid': (853.5965105096853, 131.39634565187527), 'equivalent_diameter': 96.26998829400183}, {'label': 2, 'area': 6223.0, 'centroid': (1989.1957255343082, 120.07890085167925), 'equivalent_diameter': 89.01331185214332}], 55: [{'label': 1, 'area': 7376.0, 'centroid': (854.4507863340564, 131.78023318872016), 'equivalent_diameter': 96.90931266894096}], 56: [{'label': 1, 'area': 7455.0, 'centroid': (853.4474849094568, 131.60617035546613), 'equivalent_diameter': 97.42689980698677}], 57: [{'label': 1, 'area': 7559.0, 'centroid': (853.0916787934912, 131.3671120518587), 'equivalent_diameter': 98.10411672632854}], 58: [{'label': 1, 'area': 7630.0, 'centroid': (852.9203145478375, 131.01009174311926), 'equivalent_diameter': 98.56377491923334}], 59: [{'label': 1, 'area': 7596.0, 'centroid': (853.6180884676145, 131.63388625592418), 'equivalent_diameter': 98.34392498679466}], 60: [{'label': 1, 'area': 7484.0, 'centroid': (853.5549171566007, 131.56253340459648), 'equivalent_diameter': 97.61621152655925}], 61: [{'label': 1, 'area': 7500.0, 'centroid': (853.702, 132.1936), 'equivalent_diameter': 97.720502380584}, {'label': 2, 'area': 8293.0, 'centroid': (1981.115277945255, 117.85686723742916), 'equivalent_diameter': 102.75687589883562}], 62: [{'label': 1, 'area': 7626.0, 'centroid': (853.1374246000524, 131.61932861264097), 'equivalent_diameter': 98.5379356803782}], 63: [{'label': 1, 'area': 7526.0, 'centroid': (853.7209673133138, 131.72455487642839), 'equivalent_diameter': 97.88973804069983}], 64: [{'label': 1, 'area': 7546.0, 'centroid': (853.1260270341903, 131.26477604028625), 'equivalent_diameter': 98.01972048813207}], 65: [{'label': 1, 'area': 7380.0, 'centroid': (853.5781842818428, 132.0327913279133), 'equivalent_diameter': 96.93558603601414}], 66: [{'label': 1, 'area': 7422.0, 'centroid': (853.6771759633522, 131.87698733495014), 'equivalent_diameter': 97.21102767188698}], 67: [{'label': 1, 'area': 7452.0, 'centroid': (853.1229200214707, 132.11647879763822), 'equivalent_diameter': 97.40729483650817}], 68: [{'label': 1, 'area': 7409.0, 'centroid': (853.2787150762585, 132.33027399109193), 'equivalent_diameter': 97.12585539877021}], 69: [{'label': 1, 'area': 7342.0, 'centroid': (854.0732770362299, 132.5290111686189), 'equivalent_diameter': 96.68570079099372}], 70: [{'label': 1, 'area': 7425.0, 'centroid': (854.1466666666666, 131.50760942760942), 'equivalent_diameter': 97.23067221642862}], 71: [{'label': 1, 'area': 7448.0, 'centroid': (854.9742212674544, 132.27940386680987), 'equivalent_diameter': 97.38114873622868}, {'label': 2, 'area': 9557.0, 'centroid': (1965.5425342680758, 117.60343203934289), 'equivalent_diameter': 110.31024580261777}], 72: [{'label': 1, 'area': 7387.0, 'centroid': (854.0777040747258, 131.65236225802084), 'equivalent_diameter': 96.98154730132246}, {'label': 2, 'area': 7533.0, 'centroid': (1971.7371565113501, 113.50192486393203), 'equivalent_diameter': 97.93525152104313}], 73: [{'label': 1, 'area': 7432.0, 'centroid': (854.112890204521, 132.02489235737352), 'equivalent_diameter': 97.27649405931389}], 74: [{'label': 1, 'area': 7480.0, 'centroid': (853.785294117647, 131.76938502673798), 'equivalent_diameter': 97.5901213987308}, {'label': 2, 'area': 9844.0, 'centroid': (1964.3804347826087, 117.45316944331573), 'equivalent_diameter': 111.9543213921327}], 75: [{'label': 1, 'area': 7502.0, 'centroid': (853.223273793655, 131.52052785923755), 'equivalent_diameter': 97.7335309123905}, {'label': 2, 'area': 9769.0, 'centroid': (1962.583683079128, 117.0517964991299), 'equivalent_diameter': 111.52702413548836}], 76: [{'label': 1, 'area': 7408.0, 'centroid': (853.5037796976242, 131.89079373650108), 'equivalent_diameter': 97.11930059158213}, {'label': 2, 'area': 8431.0, 'centroid': (1960.2325939983396, 113.63835843909382), 'equivalent_diameter': 103.6083133810321}], 77: [{'label': 1, 'area': 7456.0, 'centroid': (853.3496512875537, 131.19554721030042), 'equivalent_diameter': 97.43343392052532}], 78: [{'label': 1, 'area': 7492.0, 'centroid': (853.4095034703683, 131.2713561131874), 'equivalent_diameter': 97.66837087387012}], 79: [{'label': 1, 'area': 7537.0, 'centroid': (853.0152580602362, 131.59731988854983), 'equivalent_diameter': 97.96124973002806}, {'label': 2, 'area': 9574.0, 'centroid': (1961.3112596615836, 116.41341132233131), 'equivalent_diameter': 110.40831219294337}], 80: [{'label': 1, 'area': 7547.0, 'centroid': (854.127467868027, 131.27282363853186), 'equivalent_diameter': 98.02621508615067}], 81: [{'label': 1, 'area': 7543.0, 'centroid': (854.11030094127, 131.4115073578152), 'equivalent_diameter': 98.00023411164553}], 82: [{'label': 1, 'area': 7562.0, 'centroid': (854.0872784977519, 131.48161861941284), 'equivalent_diameter': 98.12358247275371}], 83: [{'label': 1, 'area': 7404.0, 'centroid': (853.7213668287412, 132.35062128579148), 'equivalent_diameter': 97.09307693764342}], 84: [{'label': 1, 'area': 7423.0, 'centroid': (854.1504782432978, 132.05146167317795), 'equivalent_diameter': 97.2175762944598}], 85: [{'label': 1, 'area': 7466.0, 'centroid': (854.3130190195553, 132.25167425663005), 'equivalent_diameter': 97.4987509714495}], 86: [{'label': 1, 'area': 7606.0, 'centroid': (853.6026820930844, 131.53589271627663), 'equivalent_diameter': 98.4086377166946}], 87: [{'label': 1, 'area': 7743.0, 'centroid': (853.3591631150716, 131.85922768952602), 'equivalent_diameter': 99.29095525214954}, {'label': 2, 'area': 9883.0, 'centroid': (1960.0320752807852, 117.51644237579683), 'equivalent_diameter': 112.17587272055259}], 88: [{'label': 1, 'area': 7708.0, 'centroid': (853.2296315516346, 131.2712765957447), 'equivalent_diameter': 99.06629301038085}], 89: [{'label': 1, 'area': 7581.0, 'centroid': (853.6633689486875, 131.70940509167656), 'equivalent_diameter': 98.24677597070179}], 90: [{'label': 1, 'area': 7604.0, 'centroid': (853.1662283008943, 131.63821672803786), 'equivalent_diameter': 98.39569857552807}], 91: [{'label': 1, 'area': 7587.0, 'centroid': (853.8809806247529, 131.3890865954923), 'equivalent_diameter': 98.28564710020319}], 92: [{'label': 1, 'area': 7552.0, 'centroid': (854.2484110169491, 130.74973516949152), 'equivalent_diameter': 98.05868162401507}, {'label': 2, 'area': 7598.0, 'centroid': (1953.5234272176888, 118.89510397473019), 'equivalent_diameter': 98.3568709389322}], 93: [{'label': 1, 'area': 7530.0, 'centroid': (853.8997343957503, 131.40571049136787), 'equivalent_diameter': 97.91574833424792}, {'label': 2, 'area': 8623.0, 'centroid': (1960.314391743013, 118.45575785689435), 'equivalent_diameter': 104.78141340071392}], 94: [{'label': 1, 'area': 7575.0, 'centroid': (853.4019801980198, 131.61095709570958), 'equivalent_diameter': 98.20788945583169}], 95: [{'label': 1, 'area': 7560.0, 'centroid': (853.5691798941799, 131.45727513227513), 'equivalent_diameter': 98.11060573759511}], 96: [{'label': 1, 'area': 7589.0, 'centroid': (853.6573988667809, 131.47068124917644), 'equivalent_diameter': 98.29860072755436}], 97: [{'label': 1, 'area': 7621.0, 'centroid': (853.4579451515549, 131.98320430389714), 'equivalent_diameter': 98.50562710031684}], 98: [{'label': 1, 'area': 7593.0, 'centroid': (853.6712761754247, 131.63255630185697), 'equivalent_diameter': 98.32450286258299}], 99: [{'label': 1, 'area': 7610.0, 'centroid': (853.5078843626807, 131.41997371879106), 'equivalent_diameter': 98.43451089650716}, {'label': 2, 'area': 5177.0, 'centroid': (1978.7170175777478, 118.14931427467646), 'equivalent_diameter': 81.18842973659447}], 100: [{'label': 1, 'area': 7636.0, 'centroid': (853.7181770560503, 131.67338920900994), 'equivalent_diameter': 98.60252108134813}], 101: [{'label': 1, 'area': 7633.0, 'centroid': (853.5541726712956, 131.41923228088564), 'equivalent_diameter': 98.58314990384258}], 102: [{'label': 1, 'area': 7644.0, 'centroid': (853.6156462585034, 131.29774986917843), 'equivalent_diameter': 98.65415895924299}], 103: [{'label': 1, 'area': 7576.0, 'centroid': (853.5630939809926, 131.7750791974657), 'equivalent_diameter': 98.21437161084722}], 104: [{'label': 1, 'area': 7600.0, 'centroid': (853.7528947368421, 131.70631578947368), 'equivalent_diameter': 98.3698151873187}], 105: [{'label': 1, 'area': 7746.0, 'centroid': (853.7816937774335, 131.36380067131424), 'equivalent_diameter': 99.31018836714877}], 106: [{'label': 1, 'area': 7666.0, 'centroid': (853.2157578919906, 131.51839290373076), 'equivalent_diameter': 98.79602395815206}, {'label': 2, 'area': 9949.0, 'centroid': (1959.9673334003417, 118.38204844708011), 'equivalent_diameter': 112.54981221916869}], 107: [{'label': 1, 'area': 7513.0, 'centroid': (853.5451883402103, 132.01743644349793), 'equivalent_diameter': 97.8051568149414}], 108: [{'label': 1, 'area': 7480.0, 'centroid': (853.151871657754, 131.79385026737967), 'equivalent_diameter': 97.5901213987308}, {'label': 2, 'area': 9986.0, 'centroid': (1962.8962547566593, 117.86230723012217), 'equivalent_diameter': 112.75890250319632}], 109: [{'label': 1, 'area': 7507.0, 'centroid': (853.1554549087518, 131.73997602237912), 'equivalent_diameter': 97.76609464598076}], 110: [{'label': 1, 'area': 7639.0, 'centroid': (853.6029585024218, 132.06741720120434), 'equivalent_diameter': 98.62188845399336}], 111: [{'label': 1, 'area': 7581.0, 'centroid': (853.64239546234, 132.12557710064635), 'equivalent_diameter': 98.24677597070179}], 112: [{'label': 1, 'area': 7532.0, 'centroid': (853.6055496548062, 132.22424322889006), 'equivalent_diameter': 97.9287508903552}], 113: [{'label': 1, 'area': 7544.0, 'centroid': (853.3696977730647, 131.5886797454931), 'equivalent_diameter': 98.00673000096508}], 114: [{'label': 1, 'area': 7567.0, 'centroid': (853.1752345711643, 131.44257962204307), 'equivalent_diameter': 98.1560168049365}], 115: [{'label': 1, 'area': 7547.0, 'centroid': (853.0396183914138, 131.72399628991653), 'equivalent_diameter': 98.02621508615067}], 116: [{'label': 1, 'area': 7516.0, 'centroid': (852.8894358701436, 131.50066524747206), 'equivalent_diameter': 97.82468205023456}], 117: [{'label': 1, 'area': 7586.0, 'centroid': (853.2511204851041, 131.86409174795676), 'equivalent_diameter': 98.27916964627319}], 118: [{'label': 1, 'area': 7650.0, 'centroid': (852.7827450980392, 131.8129411764706), 'equivalent_diameter': 98.69286963719311}], 119: [{'label': 1, 'area': 7671.0, 'centroid': (853.6338156694043, 131.78738104549603), 'equivalent_diameter': 98.828237602739}], 120: [{'label': 1, 'area': 7573.0, 'centroid': (853.9343721114485, 132.34451340287865), 'equivalent_diameter': 98.19492386207847}], 121: [{'label': 1, 'area': 7521.0, 'centroid': (853.3889110490626, 132.28307405930062), 'equivalent_diameter': 97.85721545166282}], 122: [{'label': 1, 'area': 7650.0, 'centroid': (853.3287581699346, 131.718954248366), 'equivalent_diameter': 98.69286963719311}], 123: [{'label': 1, 'area': 7605.0, 'centroid': (853.5107166337935, 132.03931623931624), 'equivalent_diameter': 98.40216835878624}], 124: [{'label': 1, 'area': 7640.0, 'centroid': (853.5002617801047, 132.2630890052356), 'equivalent_diameter': 98.628343399738}, {'label': 2, 'area': 9959.0, 'centroid': (1963.2774374937242, 119.1039260969977), 'equivalent_diameter': 112.60636139231872}], 125: [{'label': 1, 'area': 7580.0, 'centroid': (853.0988126649077, 132.30765171503958), 'equivalent_diameter': 98.24029595381181}], 126: [{'label': 1, 'area': 7636.0, 'centroid': (852.911602933473, 132.29596647459402), 'equivalent_diameter': 98.60252108134813}, {'label': 2, 'area': 9827.0, 'centroid': (1961.2352701740103, 118.28777856924799), 'equivalent_diameter': 111.85761040766268}], 127: [{'label': 1, 'area': 7592.0, 'centroid': (853.1260537407798, 132.23116438356163), 'equivalent_diameter': 98.31802796857428}], 128: [{'label': 1, 'area': 7428.0, 'centroid': (853.4359181475498, 131.77100161550888), 'equivalent_diameter': 97.2503127927761}], 129: [{'label': 1, 'area': 7658.0, 'centroid': (853.3344215199791, 131.663489161661), 'equivalent_diameter': 98.74446026781389}], 130: [{'label': 1, 'area': 7587.0, 'centroid': (853.7081850533808, 131.81072887834455), 'equivalent_diameter': 98.28564710020319}], 131: [{'label': 1, 'area': 7656.0, 'centroid': (853.5047021943574, 131.79414838035527), 'equivalent_diameter': 98.73156513745948}], 132: [{'label': 1, 'area': 7568.0, 'centroid': (853.479254756871, 132.43591437632136), 'equivalent_diameter': 98.16250238535952}, {'label': 2, 'area': 9844.0, 'centroid': (1965.259752133279, 119.83126777732629), 'equivalent_diameter': 111.9543213921327}], 133: [{'label': 1, 'area': 7620.0, 'centroid': (853.7131233595801, 131.36325459317587), 'equivalent_diameter': 98.49916411260524}], 134: [{'label': 1, 'area': 7639.0, 'centroid': (853.5181306453725, 131.16769210629664), 'equivalent_diameter': 98.62188845399336}], 135: [{'label': 1, 'area': 7602.0, 'centroid': (853.5459089713233, 131.06761378584582), 'equivalent_diameter': 98.38275773262664}, {'label': 2, 'area': 9754.0, 'centroid': (1965.6370719704737, 119.24020914496617), 'equivalent_diameter': 111.4413680791239}], 136: [{'label': 1, 'area': 7652.0, 'centroid': (853.2710402509148, 130.76450601150026), 'equivalent_diameter': 98.70576982280957}, {'label': 2, 'area': 9730.0, 'centroid': (1963.1351490236382, 118.36094552929086), 'equivalent_diameter': 111.30418127938022}], 137: [{'label': 1, 'area': 7691.0, 'centroid': (852.8902613444286, 130.80223638018464), 'equivalent_diameter': 98.95698731549045}], 138: [{'label': 1, 'area': 7635.0, 'centroid': (853.354944335298, 131.0158480681074), 'equivalent_diameter': 98.59606444505262}], 139: [{'label': 1, 'area': 7442.0, 'centroid': (853.9001612469766, 131.52741198602527), 'equivalent_diameter': 97.34191641794958}], 140: [{'label': 1, 'area': 7591.0, 'centroid': (854.1134237913318, 130.8217626136214), 'equivalent_diameter': 98.3115526481228}, {'label': 2, 'area': 9555.0, 'centroid': (1964.1459968602826, 117.92108843537414), 'equivalent_diameter': 110.29870284796861}], 141: [{'label': 1, 'area': 7631.0, 'centroid': (853.8304285152667, 131.0302712619578), 'equivalent_diameter': 98.57023367058652}, {'label': 2, 'area': 9625.0, 'centroid': (1963.8078961038962, 116.94181818181818), 'equivalent_diameter': 110.70199012698887}], 142: [{'label': 1, 'area': 7728.0, 'centroid': (853.3779761904761, 130.766433747412), 'equivalent_diameter': 99.19473373981775}], 143: [{'label': 1, 'area': 7719.0, 'centroid': (853.1650472859179, 130.60953491384893), 'equivalent_diameter': 99.13695600436156}], 144: [{'label': 1, 'area': 7662.0, 'centroid': (853.4582354476638, 130.65557295745236), 'equivalent_diameter': 98.77024547788072}], 145: [{'label': 1, 'area': 7620.0, 'centroid': (853.698031496063, 130.75826771653544), 'equivalent_diameter': 98.49916411260524}, {'label': 2, 'area': 9954.0, 'centroid': (1966.6009644364074, 117.84538878842676), 'equivalent_diameter': 112.57809035640021}], 146: [{'label': 1, 'area': 7492.0, 'centroid': (854.2058195408435, 130.97063534436734), 'equivalent_diameter': 97.66837087387012}, {'label': 2, 'area': 9752.0, 'centroid': (1965.7742001640688, 118.18775635767022), 'equivalent_diameter': 111.42994229675122}], 147: [{'label': 1, 'area': 7611.0, 'centroid': (853.7088424648535, 130.81553015372486), 'equivalent_diameter': 98.44097812892414}], 148: [{'label': 1, 'area': 7637.0, 'centroid': (853.2257430928375, 131.08275500851119), 'equivalent_diameter': 98.60897729488141}], 149: [{'label': 1, 'area': 7529.0, 'centroid': (853.8376942489042, 131.20865984858548), 'equivalent_diameter': 97.90924640865663}], 150: [{'label': 1, 'area': 7594.0, 'centroid': (853.7363708190677, 131.36818540953385), 'equivalent_diameter': 98.33097733023315}, {'label': 2, 'area': 9960.0, 'centroid': (1964.313253012048, 117.87098393574297), 'equivalent_diameter': 112.61201474781552}], 151: [{'label': 1, 'area': 7615.0, 'centroid': (853.6497701904136, 131.2189100459619), 'equivalent_diameter': 98.46684281095979}], 152: [{'label': 1, 'area': 7637.0, 'centroid': (853.8245384313212, 131.20570904805552), 'equivalent_diameter': 98.60897729488141}], 153: [{'label': 1, 'area': 7678.0, 'centroid': (853.6578536077103, 131.13909872362595), 'equivalent_diameter': 98.87331907282459}], 154: [{'label': 1, 'area': 7602.0, 'centroid': (853.597605893186, 130.89226519337018), 'equivalent_diameter': 98.38275773262664}], 155: [{'label': 1, 'area': 7798.0, 'centroid': (853.9660169274173, 130.39907668632983), 'equivalent_diameter': 99.64297250606687}], 156: [{'label': 1, 'area': 7617.0, 'centroid': (853.8448207955888, 130.92083497439938), 'equivalent_diameter': 98.47977260456959}], 157: [{'label': 1, 'area': 7661.0, 'centroid': (854.4785276073619, 130.7547317582561), 'equivalent_diameter': 98.76379980648822}], 158: [{'label': 1, 'area': 7690.0, 'centroid': (854.3875162548765, 130.62327698309494), 'equivalent_diameter': 98.95055380852297}], 159: [{'label': 1, 'area': 7703.0, 'centroid': (854.4037388030638, 130.4851356614306), 'equivalent_diameter': 99.03415680004025}], 160: [{'label': 1, 'area': 7686.0, 'centroid': (853.8708040593286, 130.54826958105647), 'equivalent_diameter': 98.92481559666645}], 161: [{'label': 1, 'area': 7539.0, 'centroid': (853.9709510545165, 131.13065393288235), 'equivalent_diameter': 97.97424624746236}], 162: [{'label': 1, 'area': 7608.0, 'centroid': (853.80389064143, 130.73409568874868), 'equivalent_diameter': 98.4215751567974}, {'label': 2, 'area': 9364.0, 'centroid': (1961.0787056813328, 119.86971379752242), 'equivalent_diameter': 109.1907280720303}], 163: [{'label': 1, 'area': 7663.0, 'centroid': (853.762364609161, 131.42894427769804), 'equivalent_diameter': 98.77669072866104}, {'label': 2, 'area': 9302.0, 'centroid': (1961.585572995055, 119.05041926467426), 'equivalent_diameter': 108.82864625238376}], 164: [{'label': 1, 'area': 7610.0, 'centroid': (853.837976346912, 131.21971090670172), 'equivalent_diameter': 98.43451089650716}, {'label': 2, 'area': 9682.0, 'centroid': (1962.6947944639537, 118.19902912621359), 'equivalent_diameter': 111.02929916074335}], 165: [{'label': 1, 'area': 7576.0, 'centroid': (853.8654963041183, 131.4861404435058), 'equivalent_diameter': 98.21437161084722}, {'label': 2, 'area': 7573.0, 'centroid': (1952.304106694837, 115.92446850653639), 'equivalent_diameter': 98.19492386207847}], 166: [{'label': 1, 'area': 7509.0, 'centroid': (853.9485950193101, 131.4404048475163), 'equivalent_diameter': 97.77911710286781}, {'label': 2, 'area': 7963.0, 'centroid': (1952.7914102725103, 115.76390807484616), 'equivalent_diameter': 100.69164063975768}], 167: [{'label': 1, 'area': 7683.0, 'centroid': (854.0618248080177, 131.22061694650526), 'equivalent_diameter': 98.90550754230148}, {'label': 2, 'area': 8834.0, 'centroid': (1958.2368123160516, 116.37197192664705), 'equivalent_diameter': 106.05563699394025}], 168: [{'label': 1, 'area': 7661.0, 'centroid': (854.3089674977157, 131.1448897010834), 'equivalent_diameter': 98.76379980648822}, {'label': 2, 'area': 7477.0, 'centroid': (1950.4220944228969, 117.03290089608132), 'equivalent_diameter': 97.57054922457294}], 169: [{'label': 1, 'area': 7609.0, 'centroid': (853.9407280851623, 131.60191878039163), 'equivalent_diameter': 98.4280432391595}, {'label': 2, 'area': 8798.0, 'centroid': (1958.970447829052, 115.99102068651966), 'equivalent_diameter': 105.83931932216855}], 170: [{'label': 1, 'area': 7629.0, 'centroid': (854.2674007078255, 131.2347620920173), 'equivalent_diameter': 98.55731574461916}, {'label': 2, 'area': 7495.0, 'centroid': (1949.777985323549, 115.74503002001335), 'equivalent_diameter': 97.68792344906326}], 171: [{'label': 1, 'area': 7521.0, 'centroid': (854.0608961574259, 131.43677702433186), 'equivalent_diameter': 97.85721545166282}], 172: [{'label': 1, 'area': 7600.0, 'centroid': (854.0723684210526, 131.12684210526317), 'equivalent_diameter': 98.3698151873187}, {'label': 2, 'area': 9953.0, 'centroid': (1965.1789410228073, 118.11102180247161), 'equivalent_diameter': 112.57243529723017}], 173: [{'label': 1, 'area': 7583.0, 'centroid': (854.5462218119478, 130.96795463536859), 'equivalent_diameter': 98.2597347224525}, {'label': 2, 'area': 9871.0, 'centroid': (1965.12217607132, 118.24090770945193), 'equivalent_diameter': 112.1077497146419}], 174: [{'label': 1, 'area': 7715.0, 'centroid': (854.2309786130913, 130.97731691510046), 'equivalent_diameter': 99.11126619931652}, {'label': 2, 'area': 9732.0, 'centroid': (1963.5678175092478, 118.93896424167694), 'equivalent_diameter': 111.31561997025666}], 175: [{'label': 1, 'area': 7725.0, 'centroid': (854.4853074433657, 130.6829773462783), 'equivalent_diameter': 99.1754782346883}, {'label': 2, 'area': 9591.0, 'centroid': (1963.160879991659, 118.46752163486602), 'equivalent_diameter': 110.50629155643105}], 176: [{'label': 1, 'area': 7666.0, 'centroid': (854.2807200626141, 131.43242890686147), 'equivalent_diameter': 98.79602395815206}], 177: [{'label': 1, 'area': 7631.0, 'centroid': (854.0169047307037, 130.98296422487223), 'equivalent_diameter': 98.57023367058652}, {'label': 2, 'area': 9635.0, 'centroid': (1963.490295796575, 119.18536585365854), 'equivalent_diameter': 110.75948272506194}], 178: [{'label': 1, 'area': 7605.0, 'centroid': (854.2040762656147, 130.8595660749507), 'equivalent_diameter': 98.40216835878624}, {'label': 2, 'area': 9709.0, 'centroid': (1963.6768977237614, 118.48089401586157), 'equivalent_diameter': 111.18400397464418}], 179: [{'label': 1, 'area': 7739.0, 'centroid': (854.0337252875048, 131.2611448507559), 'equivalent_diameter': 99.265305302031}, {'label': 2, 'area': 9774.0, 'centroid': (1963.4418866380192, 119.00327399222427), 'equivalent_diameter': 111.55556153882011}], 180: [{'label': 1, 'area': 7702.0, 'centroid': (853.8648403012205, 130.93092703193975), 'equivalent_diameter': 99.02772830652142}], 181: [{'label': 1, 'area': 7616.0, 'centroid': (854.1327468487395, 131.29805672268907), 'equivalent_diameter': 98.473307919979}], 182: [{'label': 1, 'area': 7608.0, 'centroid': (854.2849631966351, 130.86106729758149), 'equivalent_diameter': 98.4215751567974}], 183: [{'label': 1, 'area': 7770.0, 'centroid': (853.8893178893179, 130.75289575289574), 'equivalent_diameter': 99.46391940091752}], 184: [{'label': 1, 'area': 7821.0, 'centroid': (854.1351489579338, 130.45224395857306), 'equivalent_diameter': 99.78981150084265}], 185: [{'label': 1, 'area': 7725.0, 'centroid': (853.7115857605178, 130.89721682847897), 'equivalent_diameter': 99.1754782346883}], 186: [{'label': 1, 'area': 7769.0, 'centroid': (853.9140172480371, 130.64474192302742), 'equivalent_diameter': 99.45751868535369}], 187: [{'label': 1, 'area': 7620.0, 'centroid': (853.8870078740157, 130.49606299212599), 'equivalent_diameter': 98.49916411260524}], 188: [{'label': 1, 'area': 7678.0, 'centroid': (853.8825214899714, 131.21138317270123), 'equivalent_diameter': 98.87331907282459}], 189: [{'label': 1, 'area': 7697.0, 'centroid': (853.9453033649473, 131.1624009354294), 'equivalent_diameter': 98.99557957720408}], 190: [{'label': 1, 'area': 7783.0, 'centroid': (854.1938841063857, 131.36978029037647), 'equivalent_diameter': 99.54709125169741}], 191: [{'label': 1, 'area': 7789.0, 'centroid': (853.9424829888304, 131.61663884965978), 'equivalent_diameter': 99.58545483122614}], 192: [{'label': 1, 'area': 7782.0, 'centroid': (853.7743510665639, 131.1490619378052), 'equivalent_diameter': 99.54069588429165}], 193: [{'label': 1, 'area': 7752.0, 'centroid': (853.1773735810114, 131.05882352941177), 'equivalent_diameter': 99.34864342700902}], 194: [{'label': 1, 'area': 7767.0, 'centroid': (853.2869833912707, 131.02471996910003), 'equivalent_diameter': 99.44471601828832}], 195: [{'label': 1, 'area': 7668.0, 'centroid': (853.9008868022953, 131.59272300469485), 'equivalent_diameter': 98.80891067626051}], 196: [{'label': 1, 'area': 7740.0, 'centroid': (853.3688630490956, 131.28720930232558), 'equivalent_diameter': 99.27171841088558}], 197: [{'label': 1, 'area': 7790.0, 'centroid': (853.0195121951219, 131.30860077021822), 'equivalent_diameter': 99.5918473244016}], 198: [{'label': 1, 'area': 7739.0, 'centroid': (853.4483783434553, 131.5452900891588), 'equivalent_diameter': 99.265305302031}], 199: [{'label': 1, 'area': 7814.0, 'centroid': (853.5348093166112, 131.65753775275147), 'equivalent_diameter': 99.74514425555041}], 200: [{'label': 1, 'area': 7851.0, 'centroid': (853.2309259966884, 130.92370398675328), 'equivalent_diameter': 99.98101652671753}], 201: [{'label': 1, 'area': 7919.0, 'centroid': (853.2329839626216, 130.7248389948226), 'equivalent_diameter': 100.41306665348765}], 202: [{'label': 1, 'area': 8022.0, 'centroid': (852.9329344303167, 130.54138618798305), 'equivalent_diameter': 101.06397789452717}, {'label': 2, 'area': 7861.0, 'centroid': (1947.2111690624602, 117.35517109782471), 'equivalent_diameter': 100.04467032862428}], 203: [{'label': 1, 'area': 7816.0, 'centroid': (853.3449334698055, 131.13408393039919), 'equivalent_diameter': 99.757908366455}, {'label': 2, 'area': 7513.0, 'centroid': (1947.4919472913616, 117.9114867562891), 'equivalent_diameter': 97.8051568149414}], 204: [{'label': 1, 'area': 7820.0, 'centroid': (853.2049872122763, 131.0640664961637), 'equivalent_diameter': 99.78343168998035}], 205: [{'label': 1, 'area': 7900.0, 'centroid': (853.046329113924, 130.84886075949368), 'equivalent_diameter': 100.29253413593548}], 206: [{'label': 1, 'area': 7906.0, 'centroid': (853.0239058942575, 130.96622818112826), 'equivalent_diameter': 100.33061267966121}], 207: [{'label': 1, 'area': 7888.0, 'centroid': (853.3198529411765, 131.40174949290062), 'equivalent_diameter': 100.21633364312908}], 208: [{'label': 1, 'area': 7887.0, 'centroid': (853.784962596678, 130.8174210726512), 'equivalent_diameter': 100.20998098655757}], 209: [{'label': 1, 'area': 7885.0, 'centroid': (853.4344958782499, 131.02295497780597), 'equivalent_diameter': 100.19727446511087}], 210: [{'label': 1, 'area': 7880.0, 'centroid': (852.8214467005076, 131.0742385786802), 'equivalent_diameter': 100.16550110947922}], 211: [{'label': 1, 'area': 7947.0, 'centroid': (852.887127217818, 130.8594438152762), 'equivalent_diameter': 100.59043027052991}], 212: [{'label': 1, 'area': 7923.0, 'centroid': (852.6540451849047, 131.51748075224032), 'equivalent_diameter': 100.43842348890534}], 213: [{'label': 1, 'area': 7826.0, 'centroid': (852.4347048300536, 131.23064145157167), 'equivalent_diameter': 99.82170443895147}], 214: [{'label': 1, 'area': 7816.0, 'centroid': (852.5474667349027, 130.5849539406346), 'equivalent_diameter': 99.757908366455}], 215: [{'label': 1, 'area': 7733.0, 'centroid': (853.0177162808742, 131.1256950730635), 'equivalent_diameter': 99.22681794473213}], 216: [{'label': 1, 'area': 7818.0, 'centroid': (852.7452033768227, 131.07687388078793), 'equivalent_diameter': 99.77067084438944}], 217: [{'label': 1, 'area': 7781.0, 'centroid': (853.0361136100759, 130.85580259606735), 'equivalent_diameter': 99.53430010596499}, {'label': 2, 'area': 9713.0, 'centroid': (1962.7622773602388, 117.72088952949655), 'equivalent_diameter': 111.20690490258524}], 218: [{'label': 1, 'area': 7817.0, 'centroid': (853.1270308302418, 131.0510425994627), 'equivalent_diameter': 99.76428980950432}], 219: [{'label': 1, 'area': 7823.0, 'centroid': (852.9155055605266, 130.9597341173463), 'equivalent_diameter': 99.80256989909218}], 220: [{'label': 1, 'area': 7823.0, 'centroid': (852.857215901828, 130.87204397290043), 'equivalent_diameter': 99.80256989909218}], 221: [{'label': 1, 'area': 7747.0, 'centroid': (852.9929004776043, 130.95236865883567), 'equivalent_diameter': 99.3165985777972}], 222: [{'label': 1, 'area': 7767.0, 'centroid': (853.2473284408394, 131.38534826831466), 'equivalent_diameter': 99.44471601828832}], 223: [{'label': 1, 'area': 7706.0, 'centroid': (853.1624708019725, 131.02893848948872), 'equivalent_diameter': 99.0534397773705}], 224: [{'label': 1, 'area': 7703.0, 'centroid': (853.0135012332858, 130.88770608853693), 'equivalent_diameter': 99.03415680004025}], 225: [{'label': 1, 'area': 7725.0, 'centroid': (853.5645307443366, 130.85656957928802), 'equivalent_diameter': 99.1754782346883}], 226: [{'label': 1, 'area': 7612.0, 'centroid': (853.8942459274829, 130.71755123489228), 'equivalent_diameter': 98.44744493649421}], 227: [{'label': 1, 'area': 7714.0, 'centroid': (853.4980554835364, 130.9279232564169), 'equivalent_diameter': 99.10484270754404}], 228: [{'label': 1, 'area': 7730.0, 'centroid': (852.8494178525226, 130.59391979301424), 'equivalent_diameter': 99.20756866692585}], 229: [{'label': 1, 'area': 7603.0, 'centroid': (853.1509930290674, 130.68828094173352), 'equivalent_diameter': 98.38922836683618}], 230: [{'label': 1, 'area': 7601.0, 'centroid': (853.5479542165505, 130.32074727009604), 'equivalent_diameter': 98.37628667281548}], 231: [{'label': 1, 'area': 7613.0, 'centroid': (853.5765138578747, 130.72455011165113), 'equivalent_diameter': 98.45391131930104}], 232: [{'label': 1, 'area': 7530.0, 'centroid': (853.3823373173971, 130.75644090305445), 'equivalent_diameter': 97.91574833424792}], 233: [{'label': 1, 'area': 7596.0, 'centroid': (853.1744339125855, 130.86163770405477), 'equivalent_diameter': 98.34392498679466}], 234: [{'label': 1, 'area': 7666.0, 'centroid': (853.3523349856509, 130.63631620140882), 'equivalent_diameter': 98.79602395815206}], 235: [{'label': 1, 'area': 7504.0, 'centroid': (853.1819029850747, 130.76839019189765), 'equivalent_diameter': 97.74655770763829}], 236: [{'label': 1, 'area': 7603.0, 'centroid': (853.2822570038143, 130.99158227015653), 'equivalent_diameter': 98.38922836683618}], 237: [{'label': 1, 'area': 7613.0, 'centroid': (854.0164192828057, 131.29423354787863), 'equivalent_diameter': 98.45391131930104}], 238: [{'label': 1, 'area': 7616.0, 'centroid': (853.8826155462185, 131.72610294117646), 'equivalent_diameter': 98.473307919979}], 239: [{'label': 1, 'area': 7509.0, 'centroid': (854.188440538021, 131.77733386602745), 'equivalent_diameter': 97.77911710286781}], 240: [{'label': 1, 'area': 7534.0, 'centroid': (853.379346960446, 131.35386249004512), 'equivalent_diameter': 97.9417517202685}], 241: [{'label': 1, 'area': 7600.0, 'centroid': (853.8006578947368, 131.3138157894737), 'equivalent_diameter': 98.3698151873187}], 242: [{'label': 1, 'area': 7588.0, 'centroid': (854.4134159198735, 131.72430152872957), 'equivalent_diameter': 98.29212412726879}], 243: [{'label': 1, 'area': 7583.0, 'centroid': (854.300540683107, 131.36647764736912), 'equivalent_diameter': 98.2597347224525}], 244: [{'label': 1, 'area': 7647.0, 'centroid': (854.0996469203609, 131.2472865175886), 'equivalent_diameter': 98.67351619654481}], 245: [{'label': 1, 'area': 7616.0, 'centroid': (853.8043592436975, 131.14298844537817), 'equivalent_diameter': 98.473307919979}], 246: [{'label': 1, 'area': 7654.0, 'centroid': (853.865952443167, 131.06898353801932), 'equivalent_diameter': 98.71866832267814}], 247: [{'label': 1, 'area': 7582.0, 'centroid': (853.9692693220786, 131.46689527829068), 'equivalent_diameter': 98.25325556022052}], 248: [{'label': 1, 'area': 7585.0, 'centroid': (853.8068556361239, 131.15095583388268), 'equivalent_diameter': 98.27269176539436}], 249: [{'label': 1, 'area': 7564.0, 'centroid': (854.0658381808566, 131.43561607615018), 'equivalent_diameter': 98.13655749198038}], 250: [{'label': 1, 'area': 7591.0, 'centroid': (853.9206955605322, 131.6918719536293), 'equivalent_diameter': 98.3115526481228}], 251: [{'label': 1, 'area': 7450.0, 'centroid': (853.7671140939598, 131.52389261744966), 'equivalent_diameter': 97.39422266375436}], 252: [{'label': 1, 'area': 7607.0, 'centroid': (853.6589982910477, 131.28762981464442), 'equivalent_diameter': 98.41510664933703}], 253: [{'label': 1, 'area': 7529.0, 'centroid': (853.720547217426, 131.40270952317704), 'equivalent_diameter': 97.90924640865663}], 254: [{'label': 1, 'area': 7542.0, 'centroid': (854.2964730840625, 131.731636170777), 'equivalent_diameter': 97.99373779172114}], 255: [{'label': 1, 'area': 7495.0, 'centroid': (854.5723815877252, 131.67018012008006), 'equivalent_diameter': 97.68792344906326}], 256: [{'label': 1, 'area': 7534.0, 'centroid': (853.9937616140164, 131.59569949561987), 'equivalent_diameter': 97.9417517202685}], 257: [{'label': 1, 'area': 7478.0, 'centroid': (853.9509227066061, 131.6330569671035), 'equivalent_diameter': 97.57707371882776}], 258: [{'label': 1, 'area': 7453.0, 'centroid': (854.1584596806655, 132.05152287669395), 'equivalent_diameter': 97.41383026506641}], 259: [{'label': 1, 'area': 7527.0, 'centroid': (854.1766972233294, 131.47748106815465), 'equivalent_diameter': 97.89624126196863}], 260: [{'label': 1, 'area': 7560.0, 'centroid': (854.2973544973545, 131.9653439153439), 'equivalent_diameter': 98.11060573759511}], 261: [{'label': 1, 'area': 7472.0, 'centroid': (854.4725642398287, 131.7853319057816), 'equivalent_diameter': 97.53792020676438}], 262: [{'label': 1, 'area': 7734.0, 'centroid': (854.0544349625033, 130.93690199120766), 'equivalent_diameter': 99.2332335408947}], 263: [{'label': 1, 'area': 7480.0, 'centroid': (854.4525401069519, 131.6827540106952), 'equivalent_diameter': 97.5901213987308}], 264: [{'label': 1, 'area': 7578.0, 'centroid': (854.1579572446556, 130.85233570863025), 'equivalent_diameter': 98.2273346375797}], 265: [{'label': 1, 'area': 7688.0, 'centroid': (853.4866024973985, 130.99323621227887), 'equivalent_diameter': 98.9376855395553}], 266: [{'label': 1, 'area': 7516.0, 'centroid': (853.8790580095796, 130.2311069717935), 'equivalent_diameter': 97.82468205023456}, {'label': 2, 'area': 9804.0, 'centroid': (1966.1824765401877, 118.94430844553244), 'equivalent_diameter': 111.72663288841893}], 267: [], 268: [], 269: [], 270: [], 271: [], 272: [], 273: [], 274: []}}\n"
     ]
    }
   ],
   "source": [
    "from skimage.measure import regionprops, label\n",
    "import numpy as np\n",
    "\n",
    "\n",
    "# Dictionary to store region properties\n",
    "regionprops_dict = {}\n",
    "\n",
    "# Iterate through each labeled TIFF file\n",
    "for image_name, filtered_mask in filtered_masks_dict.items():\n",
    "    # Initialize dictionary for the current labeled TIFF file\n",
    "    file_regionprops = {}\n",
    "\n",
    "    # Label regions in each frame\n",
    "    for frame, labels_frame in enumerate(filtered_mask):\n",
    "        # Label regions in the current frame\n",
    "        labeled_cells = label(labels_frame)\n",
    "\n",
    "        # Initialize list to store region properties for the current frame\n",
    "        frame_regionprops_list = []\n",
    "\n",
    "        # Iterate through each labeled region in the current frame\n",
    "        for region in regionprops(labeled_cells):\n",
    "            # Extract region properties\n",
    "            region_properties = {\n",
    "                \"label\": region.label,\n",
    "                \"area\": region.area,\n",
    "                \"centroid\": region.centroid,\n",
    "                \"equivalent_diameter\": 2 * np.sqrt(region.area / np.pi),\n",
    "                # Add more properties as needed\n",
    "            }\n",
    "\n",
    "            # Append region properties to the list for the current frame\n",
    "            frame_regionprops_list.append(region_properties)\n",
    "\n",
    "        # Add the list of region properties to the dictionary for the current frame\n",
    "        file_regionprops[frame] = frame_regionprops_list\n",
    "\n",
    "    # Add the dictionary for the current labeled TIFF file to the main dictionary\n",
    "    regionprops_dict[image_name] = file_regionprops\n",
    "\n",
    "# Print or use regionprops_dict as needed\n",
    "print(regionprops_dict)"
   ]
  },
  {
   "cell_type": "markdown",
   "id": "54caa97a-460f-406a-8589-27392d4488e8",
   "metadata": {},
   "source": [
    "### Plotting"
   ]
  },
  {
   "cell_type": "code",
   "execution_count": 24,
   "id": "3deff6ed-a680-4f2d-8417-9c621346dbc0",
   "metadata": {},
   "outputs": [
    {
     "data": {
      "image/png": "[encoded data removed]",
      "text/plain": [
       "<Figure size 1000x1800 with 3 Axes>"
      ]
     },
     "metadata": {},
     "output_type": "display_data"
    }
   ],
   "source": [
    "import matplotlib.pyplot as plt\n",
    "\n",
    "# Lists to store data for each frame\n",
    "num_labels_list = []\n",
    "avg_area_list = []\n",
    "avg_diameter_list = []\n",
    "\n",
    "# Iterate through each labeled TIFF file\n",
    "for image_name, frame_regionprops_list in regionprops_dict.items():\n",
    "    for frame, region_props in frame_regionprops_list.items():\n",
    "        # Calculate the number of labels\n",
    "        num_labels = len(region_props)\n",
    "        num_labels_list.append(num_labels)\n",
    "\n",
    "        # Calculate average cell area and diameter\n",
    "        total_area = sum(prop[\"area\"] for prop in region_props)\n",
    "        avg_area = total_area / num_labels if num_labels > 0 else 0\n",
    "        avg_area_list.append(avg_area)\n",
    "\n",
    "        total_diameter = sum(prop[\"equivalent_diameter\"] for prop in region_props)\n",
    "        avg_diameter = total_diameter / num_labels if num_labels > 0 else 0\n",
    "        avg_diameter_list.append(avg_diameter)\n",
    "\n",
    "# Get frame numbers (inner keys)\n",
    "frame_numbers = list(regionprops_dict['trap_1_all_frames_series'].keys())\n",
    "\n",
    "# Plotting\n",
    "plt.figure(figsize=(10, 18))\n",
    "\n",
    "# Plot Number of Labels\n",
    "plt.subplot(3, 1, 1)\n",
    "plt.plot(frame_numbers, num_labels_list[:len(frame_numbers)], marker='o', linestyle='-', markersize=3, linewidth=1, color='red')\n",
    "plt.ylabel('Number of Labels')\n",
    "plt.title('Number of Labels Over Frame Number')\n",
    "\n",
    "# Plot Average Cell Area\n",
    "plt.subplot(3, 1, 2)\n",
    "plt.plot(frame_numbers, avg_area_list[:len(frame_numbers)], marker='o', linestyle='-', markersize=3, linewidth=1, color='blue')\n",
    "plt.ylabel('Average Cell Area')\n",
    "plt.title('Average Cell Area Over Frame Number')\n",
    "\n",
    "# Plot Average Cell Diameter\n",
    "plt.subplot(3, 1, 3)\n",
    "plt.plot(frame_numbers, avg_diameter_list[:len(frame_numbers)], marker='o', linestyle='-', markersize=3, linewidth=1, color='green')\n",
    "plt.xlabel('Frame Number')\n",
    "plt.ylabel('Average Cell Diameter')\n",
    "plt.title('Average Cell Diameter Over Frame Number')\n",
    "\n",
    "plt.tight_layout()\n",
    "plt.show()\n"
   ]
  },
  {
   "cell_type": "markdown",
   "id": "0be41dec-79e0-42a2-8572-194e41754bb2",
   "metadata": {},
   "source": [
    "### TRACKING!"
   ]
  },
  {
   "cell_type": "code",
   "execution_count": 7,
   "id": "b5ef79c5-dc7a-421f-aa21-0fa1a9b00fa4",
   "metadata": {},
   "outputs": [
    {
     "ename": "NameError",
     "evalue": "name 'model' is not defined",
     "output_type": "error",
     "traceback": [
      "\u001b[1;31m---------------------------------------------------------------------------\u001b[0m",
      "\u001b[1;31mNameError\u001b[0m                                 Traceback (most recent call last)",
      "Cell \u001b[1;32mIn[7], line 14\u001b[0m\n\u001b[0;32m      9\u001b[0m y \u001b[38;5;241m=\u001b[39m tifffile\u001b[38;5;241m.\u001b[39mimread(y_path)\n\u001b[0;32m     12\u001b[0m \u001b[38;5;66;03m# X and y are the time-sequence data and their corresponding segmentations (labels), respectively.\u001b[39;00m\n\u001b[0;32m     13\u001b[0m \u001b[38;5;66;03m# model is a deepcell-tf tracking model.\u001b[39;00m\n\u001b[1;32m---> 14\u001b[0m tracker \u001b[38;5;241m=\u001b[39m CellTracker(X, y, model)\n\u001b[0;32m     16\u001b[0m tracker\u001b[38;5;241m.\u001b[39mtrack_cells()  \u001b[38;5;66;03m# runs in place, builds tracks\u001b[39;00m\n\u001b[0;32m     18\u001b[0m \u001b[38;5;66;03m# Save all tracked data and lineage files to a .trk file\u001b[39;00m\n",
      "\u001b[1;31mNameError\u001b[0m: name 'model' is not defined"
     ]
    }
   ],
   "source": [
    "from deepcell_tracking import CellTracker\n",
    "\n",
    "# Step 1: Load Image Data (X)\n",
    "X_path = Path(r\"C:\\Users\\micha\\Desktop\\MM_data_Pipeline_results_all\\MM_pipeline_results_tiff_file_converted_2\\Cropped_traps_directory\\trap_3_all_frames_series.tiff\")\n",
    "X = tifffile.imread(X_path)\n",
    "\n",
    "# Step 2: Load Labels or Segmentations (y)\n",
    "y_path = Path(r\"C:\\Users\\micha\\Desktop\\MM_data_Pipeline_results_all\\MM_pipeline_results_tiff_file_converted_2\\Labels_directory\\trap_3_all_frames_series.tiff\")\n",
    "y = tifffile.imread(y_path)\n",
    "\n",
    "\n",
    "# X and y are the time-sequence data and their corresponding segmentations (labels), respectively.\n",
    "# model is a deepcell-tf tracking model.\n",
    "tracker = CellTracker(X, y, model)\n",
    "\n",
    "tracker.track_cells()  # runs in place, builds tracks\n",
    "\n",
    "# Save all tracked data and lineage files to a .trk file\n",
    "tracker.dump('C:/Users/micha/Desktop/MM_data_Pipeline_results_all/MM_pipeline_results_tiff_file_converted_2/results_tracking.trk')\n",
    "\n",
    "# Open the track file\n",
    "from deepcell_tracking.utils import load_trks\n",
    "\n",
    "data = load_trks('C:/Users/micha/Desktop/MM_data_Pipeline_results_all/MM_pipeline_results_tiff_file_converted_2/results_tracking.trk')\n",
    "\n",
    "lineage = data['lineages']  # linage information\n",
    "X = data['X']  # raw X data\n",
    "y = data['y']  # tracked y data"
   ]
  },
  {
   "cell_type": "code",
   "execution_count": null,
   "id": "f80ed04a-5ad6-4558-9c1b-528740d3a10d",
   "metadata": {},
   "outputs": [],
   "source": []
  }
 ],
 "metadata": {
  "kernelspec": {
   "display_name": "Python 3 (ipykernel)",
   "language": "python",
   "name": "python3"
  },
  "language_info": {
   "codemirror_mode": {
    "name": "ipython",
    "version": 3
   },
   "file_extension": ".py",
   "mimetype": "text/x-python",
   "name": "python",
   "nbconvert_exporter": "python",
   "pygments_lexer": "ipython3",
   "version": "3.11.5"
  }
 },
 "nbformat": 4,
 "nbformat_minor": 5
}
