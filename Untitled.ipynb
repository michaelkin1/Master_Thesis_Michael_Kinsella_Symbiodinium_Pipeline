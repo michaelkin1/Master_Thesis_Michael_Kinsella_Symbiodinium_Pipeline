{
 "cells": [
  {
   "cell_type": "code",
   "execution_count": 7,
   "id": "8dd58969-bcac-47b1-8c1d-023e6e5a5392",
   "metadata": {},
   "outputs": [
    {
     "name": "stdout",
     "output_type": "stream",
     "text": [
      "(106, 3)\n"
     ]
    }
   ],
   "source": [
    "x = np.zeros( (106, 106, 3) )\n",
    "result = x[:, 15, :]\n",
    "print(result.shape)"
   ]
  },
  {
   "cell_type": "code",
   "execution_count": null,
   "id": "ab63933d-dc78-4b42-94d6-09f00561ba8a",
   "metadata": {},
   "outputs": [],
   "source": []
  }
 ],
 "metadata": {
  "kernelspec": {
   "display_name": "Python 3 (ipykernel)",
   "language": "python",
   "name": "python3"
  },
  "language_info": {
   "codemirror_mode": {
    "name": "ipython",
    "version": 3
   },
   "file_extension": ".py",
   "mimetype": "text/x-python",
   "name": "python",
   "nbconvert_exporter": "python",
   "pygments_lexer": "ipython3",
   "version": "3.11.5"
  }
 },
 "nbformat": 4,
 "nbformat_minor": 5
}
