{
 "cells": [
  {
   "cell_type": "code",
   "execution_count": 4,
   "id": "93d8d2d6-35aa-498b-8e91-43bd8ba0f606",
   "metadata": {},
   "outputs": [
    {
     "name": "stderr",
     "output_type": "stream",
     "text": [
      "Processing frames:   0%|          | 0/275 [00:00<?, ?it/s]IMAGEIO FFMPEG_WRITER WARNING: input image is not divisible by macro_block_size=16, resizing from (2044, 2048) to (2048, 2048) to ensure video compatibility with most codecs and players. To prevent resizing, make your input image divisible by the macro_block_size or set the macro_block_size to 1 (risking incompatibility).\n",
      "Processing frames: 100%|██████████| 275/275 [00:17<00:00, 15.64it/s]\n"
     ]
    }
   ],
   "source": [
    "import imageio\n",
    "import tifffile\n",
    "import warnings\n",
    "import numpy as np\n",
    "from tqdm import tqdm\n",
    "\n",
    "warnings.filterwarnings(\"ignore\")\n",
    "\n",
    "# Define the path to the TIFF file\n",
    "tiff_file_path = r\"C:\\Users\\micha\\Desktop\\Master_Project\\ORIGINAL_TIFF_Series_rawdata\\new_data\\converted_Z1.tiff\"\n",
    "\n",
    "# Define the output video file path\n",
    "output_video_path = r\"C:\\Users\\micha\\Desktop\\Master_Project\\Video_TIFF\\Tiff_series_Z1_video_flouresnce.mp4\"\n",
    "\n",
    "# Define the channel you want to extract (zero-based index)\n",
    "selected_channel = 1  # Modify this to select the desired channel\n",
    "\n",
    "# Read the TIFF file\n",
    "original_image_series = tifffile.imread(tiff_file_path)\n",
    "\n",
    "# Rotate the entire image series (all channels) 90 degrees to the right using specified axes\n",
    "rotated_image_series = np.rot90(original_image_series, k=-1, axes=(2, 3))\n",
    "\n",
    "# Select the desired channel\n",
    "selected_channel_data = rotated_image_series[:, selected_channel]\n",
    "\n",
    "# Get the height and width from the first frame\n",
    "height, width = selected_channel_data[0].shape[:2]\n",
    "\n",
    "# Create a VideoWriter object with the 'ffmpeg' plugin\n",
    "video_writer = imageio.get_writer(output_video_path, fps=30)\n",
    "\n",
    "# Iterate through frames, rotate, and add them to the video with tqdm\n",
    "for frame in tqdm(selected_channel_data, desc=\"Processing frames\"):\n",
    "    # Scale pixel values to uint8 range for visualization\n",
    "    rotated_frame = (frame / np.max(frame) * 255).astype(np.uint8)\n",
    "\n",
    "    video_writer.append_data(rotated_frame)\n",
    "\n",
    "# Close the VideoWriter object\n",
    "video_writer.close()\n"
   ]
  },
  {
   "cell_type": "code",
   "execution_count": null,
   "id": "8b34d5e9-45bd-4221-b66d-fd52c0a248a5",
   "metadata": {},
   "outputs": [],
   "source": []
  }
 ],
 "metadata": {
  "kernelspec": {
   "display_name": "Python 3 (ipykernel)",
   "language": "python",
   "name": "python3"
  },
  "language_info": {
   "codemirror_mode": {
    "name": "ipython",
    "version": 3
   },
   "file_extension": ".py",
   "mimetype": "text/x-python",
   "name": "python",
   "nbconvert_exporter": "python",
   "pygments_lexer": "ipython3",
   "version": "3.11.5"
  }
 },
 "nbformat": 4,
 "nbformat_minor": 5
}
