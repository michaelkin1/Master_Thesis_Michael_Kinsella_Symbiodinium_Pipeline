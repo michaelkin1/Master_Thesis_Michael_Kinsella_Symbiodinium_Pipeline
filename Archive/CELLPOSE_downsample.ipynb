{
 "cells": [
  {
   "cell_type": "code",
   "execution_count": null,
   "id": "a393ae66-93b1-4e9b-a8ed-0ed6b0aeb4b3",
   "metadata": {},
   "outputs": [],
   "source": [
    "import numpy as np\n",
    "import napari\n",
    "import cellpose.models\n",
    "from cellpose import io as cellpose_io\n",
    "from cellpose import models\n"
   ]
  },
  {
   "cell_type": "code",
   "execution_count": null,
   "id": "c9154c69-06be-4130-ae53-445429be97e6",
   "metadata": {},
   "outputs": [],
   "source": [
    "import cellpose.models\n"
   ]
  },
  {
   "cell_type": "code",
   "execution_count": 6,
   "id": "f5a7668e-23f4-4905-abb6-29cb7a39b849",
   "metadata": {},
   "outputs": [
    {
     "name": "stdout",
     "output_type": "stream",
     "text": [
      "(2035, 252)\n"
     ]
    }
   ],
   "source": [
    "import tifffile\n",
    "file = tifffile.imread(r\"C:\\Users\\micha\\Desktop\\MM_data_Pipeline_results_all\\MM_pipeline_results_converted_Z1\\Cropped_traps_directory\\trap_1_all_frames_series.tiff\")\n",
    "file = file[20, 0, :, :]\n",
    "print(file.shape)"
   ]
  },
  {
   "cell_type": "markdown",
   "id": "56d5fc7b-e462-4c70-a457-ccd71b531011",
   "metadata": {},
   "source": [
    "### Run Cellpose and save masks"
   ]
  },
  {
   "cell_type": "code",
   "execution_count": null,
   "id": "d36c3b5e-a859-4289-9a0b-4245f5fde330",
   "metadata": {},
   "outputs": [],
   "source": [
    "import numpy as np\n",
    "import tifffile\n",
    "from cellpose import models, plot\n",
    "import matplotlib.pyplot as plt\n",
    "\n",
    "# Replace 'your_image_path' with the actual path to your image\n",
    "file = tifffile.imread(r\"C:\\Users\\micha\\Desktop\\MM_data_Pipeline_results_all\\MM_pipeline_results_converted_Z1\\Cropped_traps_directory\\trap_1_all_frames_series.tiff\")\n",
    "file = file[20, 0, :, :]\n",
    "print(file.shape)\n",
    "\n",
    "model = models.CellposeModel(model_type='livecell_cp3')\n",
    "\n",
    "masks, flows, styles = model.eval(file, diameter=90, channels=[0, 0])\n",
    "\n",
    "fig = plt.figure(figsize=(12, 5))\n",
    "\n",
    "# Replace 'your_channel_info' with the correct channel information\n",
    "\n",
    "\n",
    "plot.show_segmentation(fig, file, masks, flows[0])\n",
    "plt.tight_layout()\n",
    "plt.show()\n"
   ]
  },
  {
   "cell_type": "code",
   "execution_count": null,
   "id": "7faad152-1571-490d-bbc6-a92c720ccc58",
   "metadata": {},
   "outputs": [],
   "source": []
  }
 ],
 "metadata": {
  "kernelspec": {
   "display_name": "Python 3 (ipykernel)",
   "language": "python",
   "name": "python3"
  },
  "language_info": {
   "codemirror_mode": {
    "name": "ipython",
    "version": 3
   },
   "file_extension": ".py",
   "mimetype": "text/x-python",
   "name": "python",
   "nbconvert_exporter": "python",
   "pygments_lexer": "ipython3",
   "version": "3.11.7"
  }
 },
 "nbformat": 4,
 "nbformat_minor": 5
}
